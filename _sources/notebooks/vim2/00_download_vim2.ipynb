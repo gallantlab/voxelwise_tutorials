{
  "cells": [
    {
      "cell_type": "markdown",
      "metadata": {},
      "source": [
        "\n",
        "# Download the data set from CRCNS\n",
        "\n",
        "In this script, we download the data set from CRCNS.\n",
        "A (free) account is required.\n",
        "\n",
        ":::{warning}\n",
        "This script will download approximately 14GB of data, so it may take a while.\n",
        ":::\n",
        "\n",
        "## Cite this data set\n",
        "\n",
        "This tutorial is based on publicly available data\n",
        "[published on CRCNS](https://crcns.org/data-sets/vc/vim-2/about-vim-2).\n",
        "If you publish any work using this data set, please cite the original\n",
        "publication {cite}`nishimoto2011`, and the data set {cite}`nishimoto2014data`.\n"
      ]
    },
    {
      "cell_type": "markdown",
      "metadata": {},
      "source": [
        "## Download\n",
        "\n"
      ]
    },
    {
      "cell_type": "code",
      "execution_count": null,
      "metadata": {
        "collapsed": false
      },
      "outputs": [],
      "source": [
        "# path of the data directory\n",
        "from voxelwise_tutorials.io import get_data_home\n",
        "directory = get_data_home(dataset=\"vim-2\")\n",
        "print(directory)"
      ]
    },
    {
      "cell_type": "markdown",
      "metadata": {},
      "source": [
        "We will only use the first subject in this tutorial, but you can run the same\n",
        "analysis on the two other subjects. Uncomment the lines in ``DATAFILES`` to\n",
        "download more subjects, or to download the anatomy files.\n",
        "\n"
      ]
    },
    {
      "cell_type": "code",
      "execution_count": null,
      "metadata": {
        "collapsed": false
      },
      "outputs": [],
      "source": [
        "import getpass\n",
        "\n",
        "from voxelwise_tutorials.io import download_crcns\n",
        "\n",
        "DATAFILES = [\n",
        "    'vim-2/Stimuli.tar.gz',\n",
        "    'vim-2/VoxelResponses_subject1.tar.gz',\n",
        "    # 'vim-2/VoxelResponses_subject2.tar.gz',\n",
        "    # 'vim-2/VoxelResponses_subject3.tar.gz',\n",
        "    # 'vim-2/anatomy.zip',\n",
        "    # 'vim-2/checksums.md5',\n",
        "    # 'vim-2/filelist.txt',\n",
        "    # 'vim-2/docs/crcns-vim-2-data-description.pdf',\n",
        "]"
      ]
    },
    {
      "cell_type": "code",
      "execution_count": null,
      "metadata": {
        "collapsed": false
      },
      "outputs": [],
      "source": [
        "username = input(\"CRCNS username: \")\n",
        "password = getpass.getpass(\"CRCNS password: \")\n",
        "\n",
        "for datafile in DATAFILES:\n",
        "    local_filename = download_crcns(datafile, username, password,\n",
        "                                    destination=directory, unpack=True)"
      ]
    },
    {
      "cell_type": "markdown",
      "metadata": {},
      "source": [
        "## References\n",
        "```{bibliography}\n",
        ":filter: docname in docnames\n",
        "```"
      ]
    }
  ],
  "metadata": {
    "kernelspec": {
      "display_name": "Python 3",
      "language": "python",
      "name": "python3"
    },
    "language_info": {
      "codemirror_mode": {
        "name": "ipython",
        "version": 3
      },
      "file_extension": ".py",
      "mimetype": "text/x-python",
      "name": "python",
      "nbconvert_exporter": "python",
      "pygments_lexer": "ipython3",
      "version": "3.7.12"
    }
  },
  "nbformat": 4,
  "nbformat_minor": 0
}
