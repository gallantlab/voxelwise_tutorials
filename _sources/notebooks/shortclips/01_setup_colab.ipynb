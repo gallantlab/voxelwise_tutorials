{
  "cells": [
    {
      "cell_type": "markdown",
      "metadata": {},
      "source": [
        "\n",
        "# Setup Google Colab\n",
        "\n",
        "In this script, we setup a Google Colab environment. This script will only work\n",
        "when run from [Google Colab](https://colab.research.google.com/). You can\n",
        "skip it if you run the tutorials on your machine.\n",
        "\n",
        "> **Note:** This script will install all the required dependencies and download the data.\n",
        "> It will take around 10 minutes to run, but you need to run it only once in your Colab session.\n",
        "> If your Colab session is disconnected, you will need to run this script again."
      ]
    },
    {
      "cell_type": "markdown",
      "metadata": {},
      "source": [
        "## Change runtime to use a GPU\n",
        "\n",
        "This tutorial is much faster when a GPU is available to run the computations.\n",
        "In Google Colab you can request access to a GPU by changing the runtime type.\n",
        "To do so, click the following menu options in Google Colab:\n",
        "\n",
        "> (Menu) \"Runtime\" -> \"Change runtime type\" -> \"Hardware accelerator\" -> \"GPU\".\n",
        "\n"
      ]
    },
    {
      "cell_type": "markdown",
      "metadata": {},
      "source": [
        "## Install all required dependencies and download the data\n",
        "\n",
        "Uncomment and run the following cell to download the required packages.\n",
        "\n"
      ]
    },
    {
      "cell_type": "code",
      "execution_count": null,
      "metadata": {
        "collapsed": false
      },
      "outputs": [],
      "source": [
        "#!git config --global user.email \"you@example.com\" && git config --global user.name \"Your Name\"\n",
        "#!wget -O- http://neuro.debian.net/lists/jammy.us-ca.libre | sudo tee /etc/apt/sources.list.d/neurodebian.sources.list\n",
        "#!apt-key adv --recv-keys --keyserver hkps://keyserver.ubuntu.com 0xA5D32F012649A5A9 > /dev/null\n",
        "#!apt-get -qq update > /dev/null\n",
        "#!apt-get install -qq inkscape git-annex-standalone > /dev/null\n",
        "#!pip install -q voxelwise_tutorials"
      ]
    },
    {
      "cell_type": "markdown",
      "metadata": {},
      "source": [
        "For the record, here is what each command does:\n",
        "\n"
      ]
    },
    {
      "cell_type": "code",
      "execution_count": null,
      "metadata": {
        "collapsed": false
      },
      "outputs": [],
      "source": [
        "# - Set up an email and username to use git, git-annex, and datalad (required to download the data)\n",
        "# - Add NeuroDebian to the package sources\n",
        "# - Update the gpg keys to use NeuroDebian\n",
        "# - Update the list of available packages\n",
        "# - Install Inkscape to use more features from Pycortex, and install git-annex to download the data\n",
        "# - Install the tutorial helper package, and all the required dependencies"
      ]
    },
    {
      "cell_type": "code",
      "execution_count": null,
      "metadata": {
        "collapsed": false
      },
      "outputs": [],
      "source": [
        "try:\n",
        "    import google.colab # noqa\n",
        "    in_colab = True\n",
        "except ImportError:\n",
        "    in_colab = False\n",
        "if not in_colab:\n",
        "    raise RuntimeError(\"This script is only meant to be run from Google \"\n",
        "                       \"Colab. You can skip it if you run the tutorials \"\n",
        "                       \"on your machine.\")"
      ]
    },
    {
      "cell_type": "markdown",
      "metadata": {},
      "source": [
        "Now run the following cell to download the data for the tutorials.\n",
        "\n"
      ]
    },
    {
      "cell_type": "code",
      "execution_count": null,
      "metadata": {
        "collapsed": false
      },
      "outputs": [],
      "source": [
        "from voxelwise_tutorials.io import download_datalad\n",
        "\n",
        "DATAFILES = [\n",
        "    \"features/motion_energy.hdf\",\n",
        "    \"features/wordnet.hdf\",\n",
        "    \"mappers/S01_mappers.hdf\",\n",
        "    \"responses/S01_responses.hdf\",\n",
        "]\n",
        "\n",
        "source = \"https://gin.g-node.org/gallantlab/shortclips\"\n",
        "destination = \"/content/shortclips\"\n",
        "\n",
        "for datafile in DATAFILES:\n",
        "    local_filename = download_datalad(\n",
        "        datafile,\n",
        "        destination=destination,\n",
        "        source=source\n",
        "    )"
      ]
    },
    {
      "cell_type": "markdown",
      "metadata": {},
      "source": [
        "Now run the following cell to set up the environment variables for the\n",
        "tutorials and pycortex.\n",
        "\n"
      ]
    },
    {
      "cell_type": "code",
      "execution_count": null,
      "metadata": {
        "collapsed": false
      },
      "outputs": [],
      "source": [
        "import os\n",
        "os.environ['VOXELWISE_TUTORIALS_DATA'] = \"/content\"\n",
        "\n",
        "import sklearn\n",
        "sklearn.set_config(assume_finite=True)"
      ]
    },
    {
      "cell_type": "markdown",
      "metadata": {},
      "source": [
        "Your Google Colab environment is now set up for the voxelwise tutorials.\n",
        "\n"
      ]
    }
  ],
  "metadata": {
    "kernelspec": {
      "display_name": "Python 3",
      "language": "python",
      "name": "python3"
    },
    "language_info": {
      "codemirror_mode": {
        "name": "ipython",
        "version": 3
      },
      "file_extension": ".py",
      "mimetype": "text/x-python",
      "name": "python",
      "nbconvert_exporter": "python",
      "pygments_lexer": "ipython3",
      "version": "3.7.12"
    }
  },
  "nbformat": 4,
  "nbformat_minor": 0
}
