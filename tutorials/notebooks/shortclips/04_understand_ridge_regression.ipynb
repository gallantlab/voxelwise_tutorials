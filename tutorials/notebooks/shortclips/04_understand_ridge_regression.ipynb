{
  "cells": [
    {
      "cell_type": "markdown",
      "metadata": {},
      "source": [
        "# Understand ridge regression and hyperparameter selection\n",
        "\n",
        "In future examples, we will model the fMRI responses using a regularized linear\n",
        "regression known as *ridge regression*. This example explains why we use ridge\n",
        "regression, and how to use cross-validation to select the appropriate\n",
        "regularization hyperparameter.\n",
        "\n",
        "Linear regression is a method to model the relation between some input\n",
        "variables $X \\in \\mathbb{R}^{(n \\times p)}$ (the features) and an output\n",
        "variable $y \\in \\mathbb{R}^{n}$ (the target). Specifically, linear\n",
        "regression uses a vector of coefficient $w \\in \\mathbb{R}^{p}$ to\n",
        "predict the output\n",
        "\n",
        "\\begin{align}\\hat{y} = Xw\\end{align}\n",
        "\n",
        "The model is considered accurate if the predictions $\\hat{y}$ are close\n",
        "to the true output values $y$. Therefore,  a good linear regression model\n",
        "is given by the vector $w$ that minimizes the sum of squared errors:\n",
        "\n",
        "\\begin{align}w = \\arg\\min_w ||Xw - y||^2\\end{align}\n",
        "\n",
        "This is the simplest model for linear regression, and it is known as *ordinary\n",
        "least squares* (OLS).\n"
      ]
    },
    {
      "cell_type": "markdown",
      "metadata": {},
      "source": [
        "## Ordinary least squares (OLS)\n",
        "\n",
        "To illustrate OLS, let's use a toy dataset with a single features ``X[:,0]``.\n",
        "On the plot below (left panel), each dot is a sample ``(X[i,0], y[i])``, and\n",
        "the linear regression model is the line ``y = X[:,0] * w[0]``. On each\n",
        "sample, the error between the prediction and the true value is shown by a\n",
        "gray line. By summing the squared errors over all samples, we get the squared\n",
        "loss. Plotting the squared loss for every value of ``w`` leads to a parabola\n",
        "(right panel).\n",
        "\n"
      ]
    },
    {
      "cell_type": "code",
      "execution_count": null,
      "metadata": {
        "collapsed": false
      },
      "outputs": [],
      "source": [
        "import numpy as np\n",
        "from voxelwise_tutorials.regression_toy import create_regression_toy\n",
        "from voxelwise_tutorials.regression_toy import plot_1d\n",
        "\n",
        "X, y = create_regression_toy(n_features=1)\n",
        "\n",
        "plot_1d(X, y, w=[0])"
      ]
    },
    {
      "cell_type": "markdown",
      "metadata": {},
      "source": [
        "By varying the linear coefficient ``w``, we can change the prediction\n",
        "accuracy of the model, and thus the squared loss.\n",
        "\n"
      ]
    },
    {
      "cell_type": "code",
      "execution_count": null,
      "metadata": {
        "collapsed": false
      },
      "outputs": [],
      "source": [
        "plot_1d(X, y, w=[0.2])"
      ]
    },
    {
      "cell_type": "code",
      "execution_count": null,
      "metadata": {
        "collapsed": false
      },
      "outputs": [],
      "source": [
        "plot_1d(X, y, w=[0.7])"
      ]
    },
    {
      "cell_type": "markdown",
      "metadata": {},
      "source": [
        "The linear coefficient leading to the minimum squared loss can be found\n",
        "analytically with the formula:\n",
        "\n",
        "\\begin{align}w = (X^\\top X)^{-1}  X^\\top y\\end{align}\n",
        "\n",
        "This is the OLS solution.\n",
        "\n"
      ]
    },
    {
      "cell_type": "code",
      "execution_count": null,
      "metadata": {
        "collapsed": false
      },
      "outputs": [],
      "source": [
        "w_ols = np.linalg.solve(X.T @ X, X.T @ y)\n",
        "\n",
        "plot_1d(X, y, w=w_ols)"
      ]
    },
    {
      "cell_type": "markdown",
      "metadata": {},
      "source": [
        "Linear regression can also be used on more than one feature. On the next toy\n",
        "dataset, we will use two features ``X[:,0]`` and ``X[:,1]``. The linear\n",
        "regression model is a now plane. Here again, summing the squared errors over\n",
        "all samples gives the squared loss.Plotting the squared loss for every value\n",
        "of ``w[0]`` and ``w[1]`` leads to a 2D parabola (right panel).\n",
        "\n"
      ]
    },
    {
      "cell_type": "code",
      "execution_count": null,
      "metadata": {
        "collapsed": false
      },
      "outputs": [],
      "source": [
        "from voxelwise_tutorials.regression_toy import create_regression_toy\n",
        "from voxelwise_tutorials.regression_toy import plot_2d\n",
        "\n",
        "X, y = create_regression_toy(n_features=2)\n",
        "\n",
        "plot_2d(X, y, w=[0, 0], show_noiseless=False)"
      ]
    },
    {
      "cell_type": "code",
      "execution_count": null,
      "metadata": {
        "collapsed": false
      },
      "outputs": [],
      "source": [
        "plot_2d(X, y, w=[0.4, 0], show_noiseless=False)"
      ]
    },
    {
      "cell_type": "code",
      "execution_count": null,
      "metadata": {
        "collapsed": false
      },
      "outputs": [],
      "source": [
        "plot_2d(X, y, w=[0, 0.3], show_noiseless=False)"
      ]
    },
    {
      "cell_type": "markdown",
      "metadata": {},
      "source": [
        "Here again, the OLS solution can be found analytically with the same formula.\n",
        "Note that the OLS solution is not equal to the ground-truth coefficients used\n",
        "to generate the toy dataset (black cross), because we added some noise to the\n",
        "target values ``y``. We want the solution we find to be as close as possible\n",
        "to the ground-truth coefficients, because it will allow the regression to\n",
        "generalize correctly to new data.\n",
        "\n"
      ]
    },
    {
      "cell_type": "code",
      "execution_count": null,
      "metadata": {
        "collapsed": false
      },
      "outputs": [],
      "source": [
        "w_ols = np.linalg.solve(X.T @ X, X.T @ y)\n",
        "plot_2d(X, y, w=w_ols)"
      ]
    },
    {
      "cell_type": "markdown",
      "metadata": {},
      "source": [
        "The situation becomes more interesting when the features in ``X`` are\n",
        "correlated. Here, we add a correlation between the first feature ``X[:, 0]``\n",
        "and the second feature ``X[:, 1]``. With this correlation, the squared loss\n",
        "function is no more isotropic, so the lines of equal loss are now ellipses\n",
        "instead of circles. Thus, when starting from the OLS solution, moving ``w``\n",
        "toward the top left leads to a small change in the loss, whereas moving it\n",
        "toward the top right leads to a large change in the loss. This anisotropy\n",
        "makes the OLS solution less robust to noise in some particular directions\n",
        "(deviating more from the ground-truth coefficients).\n",
        "\n"
      ]
    },
    {
      "cell_type": "code",
      "execution_count": null,
      "metadata": {
        "collapsed": false
      },
      "outputs": [],
      "source": [
        "X, y = create_regression_toy(n_features=2, correlation=0.9)\n",
        "\n",
        "w_ols = np.linalg.solve(X.T @ X, X.T @ y)\n",
        "plot_2d(X, y, w=w_ols)"
      ]
    },
    {
      "cell_type": "markdown",
      "metadata": {},
      "source": [
        "The different robustness to noise can be understood mathematically by the\n",
        "fact that the OLS solution requires inverting the matrix $(X^T X)$. The\n",
        "matrix inversion amounts to inverting the eigenvalues $\\lambda_k$ of\n",
        "the matrix. When the features are highly correlated, some eigenvalues\n",
        "$\\lambda_k$ are close to zero, and a small change in the features can\n",
        "have a large effect on the inverse. Thus, having small eigenvalues reduces\n",
        "the stability of the inversion. If the correlation is even higher, the\n",
        "smallest eigenvalues get closer to zero, and the OLS solution becomes even\n",
        "less stable.\n",
        "\n"
      ]
    },
    {
      "cell_type": "code",
      "execution_count": null,
      "metadata": {
        "collapsed": false
      },
      "outputs": [],
      "source": [
        "X, y = create_regression_toy(n_features=2, correlation=0.999)\n",
        "\n",
        "w_ols = np.linalg.solve(X.T @ X, X.T @ y)\n",
        "plot_2d(X, y, w=w_ols)"
      ]
    },
    {
      "cell_type": "markdown",
      "metadata": {},
      "source": [
        "The instability can become even more pronounced with larger number of\n",
        "features, or with smaller numbers of samples.\n",
        "\n"
      ]
    },
    {
      "cell_type": "code",
      "execution_count": null,
      "metadata": {
        "collapsed": false
      },
      "outputs": [],
      "source": [
        "X, y = create_regression_toy(n_samples=10, n_features=2, correlation=0.999)\n",
        "\n",
        "w_ols = np.linalg.solve(X.T @ X, X.T @ y)\n",
        "plot_2d(X, y, w=w_ols)"
      ]
    },
    {
      "cell_type": "markdown",
      "metadata": {},
      "source": [
        "When the number of features is larger than the number of samples, the linear\n",
        "system becomes under-determined, which means that the OLS problem has an\n",
        "infinite number of solutions, most of which do not generalize well to new\n",
        "data.\n",
        "\n"
      ]
    },
    {
      "cell_type": "markdown",
      "metadata": {},
      "source": [
        "## Ridge regression\n",
        "\n",
        "To solve the instability and under-determinacy issues of OLS, OLS can be\n",
        "extended to *ridge regression*. Ridge regression considers a different\n",
        "optimization problem:\n",
        "\n",
        "\\begin{align}w = \\arg\\min_w ||Xw - y||^2 + \\alpha ||w||^2\\end{align}\n",
        "\n",
        "This optimization problem contains two terms: (i) a *data-fitting term*\n",
        "$||Xw - y||^2$, which ensures the regression correctly fits the\n",
        "training data; and (ii) a regularization term $\\alpha||w||^2$, which\n",
        "forces the coefficients $w$ to be close to zero. The regularization\n",
        "term increases the stability of the solution, at the cost of a bias toward\n",
        "zero.\n",
        "\n",
        "In the regularization term, ``alpha`` is a positive hyperparameter that\n",
        "controls the regularization strength. With a smaller ``alpha``, the solution\n",
        "will be closer to the OLS solution, and with a larger ``alpha``, the solution\n",
        "will be further from the OLS solution and closer to the origin.\n",
        "\n",
        "To illustrate this effect, the following plot shows the ridge solution for a\n",
        "particular value of ``alpha``. The black circle corresponds to the line of\n",
        "equal regularization, whereas the blue ellipses are the lines of equal\n",
        "squared loss.\n",
        "\n"
      ]
    },
    {
      "cell_type": "code",
      "execution_count": null,
      "metadata": {
        "collapsed": false
      },
      "outputs": [],
      "source": [
        "X, y = create_regression_toy(n_features=2, correlation=0.9)\n",
        "\n",
        "alpha = 23\n",
        "w_ridge = np.linalg.solve(X.T @ X + np.eye(X.shape[1]) * alpha, X.T @ y)\n",
        "plot_2d(X, y, w_ridge, alpha=alpha)"
      ]
    },
    {
      "cell_type": "markdown",
      "metadata": {},
      "source": [
        "To understand why the regularization term makes the solution more robust to\n",
        "noise, let's consider the ridge solution. The ridge solution can be found\n",
        "analytically with the formula:\n",
        "\n",
        "\\begin{align}w = (X^\\top X + \\alpha I)^{-1}  X^\\top y\\end{align}\n",
        "\n",
        "where ``I`` is the identity matrix. In this formula, we can see that the\n",
        "inverted matrix is now $(X^\\top X + \\alpha I)$. Compared to OLS, the\n",
        "additional term $\\alpha I$ adds a positive value ``alpha`` to all\n",
        "eigenvalues $\\lambda_k$ of $(X^\\top X)$ before the matrix\n",
        "inversion. Inverting $(\\lambda_k + \\alpha)$ instead of\n",
        "$\\lambda_k$ reduces the instability caused by small eigenvalues. This\n",
        "explains why the ridge solution is more robust to noise than the OLS\n",
        "solution.\n",
        "\n",
        "In the following plots, we can see that even with a stronger correlation, the\n",
        "ridge solution is still reasonably close to the noiseless ground truth, while\n",
        "the OLS solution would be far off.\n",
        "\n"
      ]
    },
    {
      "cell_type": "code",
      "execution_count": null,
      "metadata": {
        "collapsed": false
      },
      "outputs": [],
      "source": [
        "X, y = create_regression_toy(n_features=2, correlation=0.999)\n",
        "\n",
        "alpha = 23\n",
        "w_ridge = np.linalg.solve(X.T @ X + np.eye(X.shape[1]) * alpha, X.T @ y)\n",
        "plot_2d(X, y, w_ridge, alpha=alpha)"
      ]
    },
    {
      "cell_type": "markdown",
      "metadata": {},
      "source": [
        "Changing the regularization hyperparameter $\\alpha$ leads to another\n",
        "ridge solution.\n",
        "\n"
      ]
    },
    {
      "cell_type": "code",
      "execution_count": null,
      "metadata": {
        "collapsed": false
      },
      "outputs": [],
      "source": [
        "X, y = create_regression_toy(n_features=2, correlation=0.999)\n",
        "\n",
        "alpha = 200\n",
        "w_ridge = np.linalg.solve(X.T @ X + np.eye(X.shape[1]) * alpha, X.T @ y)\n",
        "plot_2d(X, y, w_ridge, alpha=alpha)"
      ]
    },
    {
      "cell_type": "markdown",
      "metadata": {},
      "source": [
        "Side note: For every $\\alpha$, at the corresponding ridge solution, the\n",
        "line of equal regularization and the line of equal loss are tangent. If the\n",
        "two lines were crossing, one could improve the ridge solution by moving along\n",
        "one line. It would improve one term while keeping the other term constant.\n",
        "\n"
      ]
    },
    {
      "cell_type": "markdown",
      "metadata": {},
      "source": [
        "## Hyperparameter selection\n",
        "One issue with ridge regression is that the hyperparameter $\\alpha$ is\n",
        "arbitrary. Different choices of hyperparameter lead to different models. To\n",
        "compare these models, we cannot compare the ability to fit the training data,\n",
        "because the best model would just be OLS ($alpha = 0$). Instead, we\n",
        "want to compare the ability of each model to generalize to new data. To\n",
        "estimate a model ability to generalize, we can compute its prediction\n",
        "accuracy on a separate dataset that was not used during the model fitting\n",
        "(i.e. not used to find the coefficients $w$).\n",
        "\n",
        "To illustrate this idea, we can split the data into two subsets.\n",
        "\n"
      ]
    },
    {
      "cell_type": "code",
      "execution_count": null,
      "metadata": {
        "collapsed": false
      },
      "outputs": [],
      "source": [
        "from voxelwise_tutorials.regression_toy import create_regression_toy\n",
        "from voxelwise_tutorials.regression_toy import plot_kfold2\n",
        "\n",
        "X, y = create_regression_toy(n_features=1)\n",
        "\n",
        "plot_kfold2(X, y, fit=False)"
      ]
    },
    {
      "cell_type": "markdown",
      "metadata": {},
      "source": [
        "Then, we can fit a model on each subset.\n",
        "\n"
      ]
    },
    {
      "cell_type": "code",
      "execution_count": null,
      "metadata": {
        "collapsed": false
      },
      "outputs": [],
      "source": [
        "alpha = 0.1\n",
        "plot_kfold2(X, y, alpha, fit=True)"
      ]
    },
    {
      "cell_type": "markdown",
      "metadata": {},
      "source": [
        "And compute the prediction accuracy of each model on the other subset.\n",
        "\n"
      ]
    },
    {
      "cell_type": "code",
      "execution_count": null,
      "metadata": {
        "collapsed": false
      },
      "outputs": [],
      "source": [
        "plot_kfold2(X, y, alpha, fit=True, flip=True)"
      ]
    },
    {
      "cell_type": "markdown",
      "metadata": {},
      "source": [
        "In this way, we can evaluate the ridge regression (fit with a specific\n",
        "$\\alpha$) on its ability to generalize to new data. If we do that for\n",
        "different hyperparameter candidates $\\alpha$, we can select the model\n",
        "leading to the best out-of-set prediction accuracy.\n",
        "\n"
      ]
    },
    {
      "cell_type": "code",
      "execution_count": null,
      "metadata": {
        "collapsed": false
      },
      "outputs": [],
      "source": [
        "from voxelwise_tutorials.regression_toy import plot_cv_path\n",
        "\n",
        "noise = 0.1\n",
        "X, y = create_regression_toy(n_features=2, noise=noise)\n",
        "plot_cv_path(X, y)"
      ]
    },
    {
      "cell_type": "markdown",
      "metadata": {},
      "source": [
        "In the example above, the noise level is low, so the best hyperparameter\n",
        "alpha is close to zero, and ridge regression is not much better than OLS.\n",
        "However, if the dataset has more noise, a lower number of samples, or more\n",
        "correlated features, the best hyperparameter can be higher. In this case,\n",
        "ridge regression is better than OLS.\n",
        "\n"
      ]
    },
    {
      "cell_type": "code",
      "execution_count": null,
      "metadata": {
        "collapsed": false
      },
      "outputs": [],
      "source": [
        "noise = 3\n",
        "X, y = create_regression_toy(n_features=2, noise=noise)\n",
        "plot_cv_path(X, y)"
      ]
    },
    {
      "cell_type": "markdown",
      "metadata": {},
      "source": [
        "When the noise level is too high, the best hyperparameter can be the largest\n",
        "on the grid. It either means that the grid is too small, or that the\n",
        "regression does not find a predictive link between the features and the\n",
        "target. In this case, the model with the lowest generalization error always\n",
        "predict zero ($w=0$).\n",
        "\n"
      ]
    },
    {
      "cell_type": "code",
      "execution_count": null,
      "metadata": {
        "collapsed": false
      },
      "outputs": [],
      "source": [
        "noise = 100\n",
        "X, y = create_regression_toy(n_features=2, noise=noise)\n",
        "plot_cv_path(X, y)"
      ]
    },
    {
      "cell_type": "markdown",
      "metadata": {},
      "source": [
        "To summarize, to select the best hyperparameter $\\alpha$, the standard\n",
        "method is to perform a grid search:\n",
        "\n",
        "  - Split the training set into two subsets: one subset used to fit the\n",
        "    models, and one subset to estimate the prediction accuracy (*validation\n",
        "    set*)\n",
        "  - Define a number of hyperparameter candidates, for example [0.1, 1, 10,\n",
        "    100].\n",
        "  - Fit a separate ridge model with each hyperparameter candidate\n",
        "    $\\alpha$.\n",
        "  - Compute the prediction accuracy on the validation set.\n",
        "  - Select the hyperparameter candidate leading to the best validation\n",
        "    accuracy.\n",
        "\n",
        "To make the grid search less sensitive to the choice of how the training data\n",
        "was split, the process can be repeated for multiple splits. Then, the\n",
        "different prediction accuracies can be averaged over splits before the\n",
        "hyperparameter selection. Thus, the process is called a *cross-validation*.\n",
        "\n",
        "Learn more about hyperparameter selection and cross-validation on the\n",
        "[scikit-learn documentation](https://scikit-learn.org/stable/modules/cross_validation.html).\n",
        "\n"
      ]
    }
  ],
  "metadata": {
    "kernelspec": {
      "display_name": "voxelwise_tutorials",
      "language": "python",
      "name": "python3"
    },
    "language_info": {
      "codemirror_mode": {
        "name": "ipython",
        "version": 3
      },
      "file_extension": ".py",
      "mimetype": "text/x-python",
      "name": "python",
      "nbconvert_exporter": "python",
      "pygments_lexer": "ipython3",
      "version": "3.10.13"
    }
  },
  "nbformat": 4,
  "nbformat_minor": 0
}
