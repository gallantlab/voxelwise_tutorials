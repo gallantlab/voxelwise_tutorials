{
  "cells": [
    {
      "cell_type": "markdown",
      "metadata": {},
      "source": [
        "\n",
        "# Fit a ridge model with wordnet features\n",
        "\n",
        "In this example, we model the fMRI responses with semantic \"wordnet\" features,\n",
        "manually annotated on each frame of the movie stimulus. The model is a\n",
        "regularized linear regression model, known as ridge regression. Since this\n",
        "model is used to predict brain activity from the stimulus, it is called a\n",
        "(voxelwise) encoding model.\n",
        "\n",
        "This example reproduces part of the analysis described in {cite:t}`huth2012`. See the original publication for more details about the experiment, the wordnet\n",
        "features, along with more results and more discussions.\n",
        "\n",
        "*WordNet features:* The features used in this example are semantic labels\n",
        "manually annotated on each frame of the movie stimulus. The semantic labels\n",
        "include nouns (such as \"woman\", \"car\", or \"building\") and verbs (such as\n",
        "\"talking\", \"touching\", or \"walking\"), for a total of 1705 distinct category\n",
        "labels. To interpret our model, labels can be organized in a graph of semantic\n",
        "relashionship based on the [WordNet](https://wordnet.princeton.edu/) dataset.\n",
        "\n",
        "*Summary:* We first concatenate the features with multiple temporal delays to\n",
        "account for the slow hemodynamic response. We then use linear regression to fit\n",
        "a predictive model of brain activity. The linear regression is regularized to\n",
        "improve robustness to correlated features and to improve generalization\n",
        "performance. The optimal regularization hyperparameter is selected over a\n",
        "grid-search with cross-validation. Finally, the model generalization\n",
        "performance is evaluated on a held-out test set, comparing the model\n",
        "predictions to the corresponding ground-truth fMRI responses.\n",
        "\n",
        ":::{note}\n",
        "It should take less than 5 minutes to run the model fitting in this tutorial on a GPU. If you are using a CPU, it may take longer.\n",
        ":::"
      ]
    },
    {
      "cell_type": "markdown",
      "metadata": {},
      "source": [
        "## Path of the data directory\n",
        "\n"
      ]
    },
    {
      "cell_type": "code",
      "execution_count": null,
      "metadata": {
        "collapsed": false
      },
      "outputs": [],
      "source": [
        "from voxelwise_tutorials.io import get_data_home\n",
        "directory = get_data_home(dataset=\"shortclips\")\n",
        "print(directory)"
      ]
    },
    {
      "cell_type": "code",
      "execution_count": null,
      "metadata": {
        "collapsed": false
      },
      "outputs": [],
      "source": [
        "# modify to use another subject\n",
        "subject = \"S01\""
      ]
    },
    {
      "cell_type": "markdown",
      "metadata": {},
      "source": [
        "## Load the data\n",
        "\n",
        "We first load the fMRI responses. These responses have been preprocessed as\n",
        "decribed in {cite:t}`huth2012`. The data is separated into a training set ``Y_train`` and a\n",
        "testing set ``Y_test``. The training set is used for fitting models, and\n",
        "selecting the best models and hyperparameters. The test set is later used\n",
        "to estimate the generalization performance of the selected model. The\n",
        "test set contains multiple repetitions of the same experiment to estimate\n",
        "an upper bound of the model prediction accuracy (cf. previous example)."
      ]
    },
    {
      "cell_type": "code",
      "execution_count": null,
      "metadata": {
        "collapsed": false
      },
      "outputs": [],
      "source": [
        "import os\n",
        "import numpy as np\n",
        "from voxelwise_tutorials.io import load_hdf5_array\n",
        "\n",
        "file_name = os.path.join(directory, \"responses\", f\"{subject}_responses.hdf\")\n",
        "Y_train = load_hdf5_array(file_name, key=\"Y_train\")\n",
        "Y_test = load_hdf5_array(file_name, key=\"Y_test\")\n",
        "\n",
        "print(\"(n_samples_train, n_voxels) =\", Y_train.shape)\n",
        "print(\"(n_repeats, n_samples_test, n_voxels) =\", Y_test.shape)"
      ]
    },
    {
      "cell_type": "markdown",
      "metadata": {},
      "source": [
        "If we repeat an experiment multiple times, part of the fMRI responses might\n",
        "change. However the modeling features do not change over the repeats, so the\n",
        "voxelwise encoding model will predict the same signal for each repeat. To\n",
        "have an upper bound of the model prediction accuracy, we keep only the\n",
        "repeatable part of the signal by averaging the test repeats.\n",
        "\n"
      ]
    },
    {
      "cell_type": "code",
      "execution_count": null,
      "metadata": {
        "collapsed": false
      },
      "outputs": [],
      "source": [
        "Y_test = Y_test.mean(0)\n",
        "\n",
        "print(\"(n_samples_test, n_voxels) =\", Y_test.shape)"
      ]
    },
    {
      "cell_type": "markdown",
      "metadata": {},
      "source": [
        "We fill potential NaN (not-a-number) values with zeros.\n",
        "\n"
      ]
    },
    {
      "cell_type": "code",
      "execution_count": null,
      "metadata": {
        "collapsed": false
      },
      "outputs": [],
      "source": [
        "Y_train = np.nan_to_num(Y_train)\n",
        "Y_test = np.nan_to_num(Y_test)"
      ]
    },
    {
      "cell_type": "markdown",
      "metadata": {},
      "source": [
        "Then, we load the semantic \"wordnet\" features, extracted from the stimulus at\n",
        "each time point. The features corresponding to the training set are noted\n",
        "``X_train``, and the features corresponding to the test set are noted\n",
        "``X_test``.\n",
        "\n"
      ]
    },
    {
      "cell_type": "code",
      "execution_count": null,
      "metadata": {
        "collapsed": false
      },
      "outputs": [],
      "source": [
        "feature_space = \"wordnet\"\n",
        "\n",
        "file_name = os.path.join(directory, \"features\", f\"{feature_space}.hdf\")\n",
        "X_train = load_hdf5_array(file_name, key=\"X_train\")\n",
        "X_test = load_hdf5_array(file_name, key=\"X_test\")\n",
        "\n",
        "print(\"(n_samples_train, n_features) =\", X_train.shape)\n",
        "print(\"(n_samples_test, n_features) =\", X_test.shape)"
      ]
    },
    {
      "cell_type": "markdown",
      "metadata": {},
      "source": [
        "## Define the cross-validation scheme\n",
        "\n",
        "To select the best hyperparameter through cross-validation, we must define a\n",
        "cross-validation splitting scheme. Because fMRI time-series are\n",
        "autocorrelated in time, we should preserve as much as possible the temporal\n",
        "correlation. In other words, because consecutive time samples are correlated,\n",
        "we should not put one time sample in the training set and the immediately\n",
        "following time sample in the validation set. Thus, we define here a\n",
        "leave-one-run-out cross-validation split that keeps each recording run\n",
        "intact.\n",
        "\n"
      ]
    },
    {
      "cell_type": "code",
      "execution_count": null,
      "metadata": {
        "collapsed": false
      },
      "outputs": [],
      "source": [
        "from sklearn.model_selection import check_cv\n",
        "from voxelwise_tutorials.utils import generate_leave_one_run_out\n",
        "\n",
        "# indice of first sample of each run\n",
        "run_onsets = load_hdf5_array(file_name, key=\"run_onsets\")\n",
        "print(run_onsets)"
      ]
    },
    {
      "cell_type": "markdown",
      "metadata": {},
      "source": [
        "We define a cross-validation splitter, compatible with ``scikit-learn`` API.\n",
        "\n"
      ]
    },
    {
      "cell_type": "code",
      "execution_count": null,
      "metadata": {
        "collapsed": false
      },
      "outputs": [],
      "source": [
        "n_samples_train = X_train.shape[0]\n",
        "cv = generate_leave_one_run_out(n_samples_train, run_onsets)\n",
        "cv = check_cv(cv)  # copy the cross-validation splitter into a reusable list"
      ]
    },
    {
      "cell_type": "markdown",
      "metadata": {},
      "source": [
        "## Define the model\n",
        "\n",
        "Now, let's define the model pipeline.\n",
        "\n",
        "We first center the features, since we will not use an intercept. The mean\n",
        "value in fMRI recording is non-informative, so each run is detrended and\n",
        "demeaned independently, and we do not need to predict an intercept value in\n",
        "the linear model.\n",
        "\n",
        "However, we prefer to avoid normalizing by the standard deviation of each\n",
        "feature. If the features are extracted in a consistent way from the stimulus,\n",
        "their relative scale is meaningful. Normalizing them independently from each\n",
        "other would remove this information. Moreover, the wordnet features are\n",
        "one-hot-encoded, which means that each feature is either present (1) or not\n",
        "present (0) in each sample. Normalizing one-hot-encoded features is not\n",
        "recommended, since it would scale disproportionately the infrequent features.\n",
        "\n"
      ]
    },
    {
      "cell_type": "code",
      "execution_count": null,
      "metadata": {
        "collapsed": false
      },
      "outputs": [],
      "source": [
        "from sklearn.preprocessing import StandardScaler\n",
        "scaler = StandardScaler(with_mean=True, with_std=False)"
      ]
    },
    {
      "cell_type": "markdown",
      "metadata": {},
      "source": [
        "Then we concatenate the features with multiple delays to account for the\n",
        "hemodynamic response. Due to neurovascular coupling, the recorded BOLD signal\n",
        "is delayed in time with respect to the stimulus onset. With different delayed\n",
        "versions of the features, the linear regression model will weigh each delayed\n",
        "feature with a different weight to maximize the predictions. With a sample\n",
        "every 2 seconds, we typically use 4 delays `[1, 2, 3, 4]` to cover the\n",
        "hemodynamic response peak. In the next example, we further describe this\n",
        "hemodynamic response estimation.\n",
        "\n"
      ]
    },
    {
      "cell_type": "code",
      "execution_count": null,
      "metadata": {
        "collapsed": false
      },
      "outputs": [],
      "source": [
        "from voxelwise_tutorials.delayer import Delayer\n",
        "delayer = Delayer(delays=[1, 2, 3, 4])"
      ]
    },
    {
      "cell_type": "markdown",
      "metadata": {},
      "source": [
        "Finally, we use a ridge regression model. Ridge regression is a linear\n",
        "regression with L2 regularization. The L2 regularization improves robustness\n",
        "to correlated features and improves generalization performance. The L2\n",
        "regularization is controlled by a hyperparameter ``alpha`` that needs to be\n",
        "tuned for each dataset. This regularization hyperparameter is usually\n",
        "selected over a grid search with cross-validation, selecting the\n",
        "hyperparameter that maximizes the predictive performances on the validation\n",
        "set. See the previous example for more details about ridge regression and\n",
        "hyperparameter selection.\n",
        "\n",
        "For computational reasons, when the number of features is larger than the\n",
        "number of samples, it is more efficient to solve ridge regression using the\n",
        "(equivalent) dual formulation {cite}`saunders1998`. This dual formulation is equivalent to\n",
        "kernel ridge regression with a linear kernel. Here, we have 3600 training\n",
        "samples, and 1705 * 4 = 6820 features (we multiply by 4 since we use 4 time\n",
        "delays), therefore it is more efficient to use kernel ridge regression.\n",
        "\n",
        "With one target, we could directly use the pipeline in ``scikit-learn``'s\n",
        "``GridSearchCV``, to select the optimal regularization hyperparameter\n",
        "(``alpha``) over cross-validation. However, ``GridSearchCV`` can only\n",
        "optimize a single score across all voxels (targets). Thus, in the\n",
        "multiple-target case, ``GridSearchCV`` can only optimize (for example) the\n",
        "mean score over targets. Here, we want to find a different optimal\n",
        "hyperparameter per target/voxel, so we use the package [himalaya](https://github.com/gallantlab/himalaya) which implements a\n",
        "``scikit-learn`` compatible estimator ``KernelRidgeCV``, with hyperparameter\n",
        "selection independently on each target.\n",
        "\n"
      ]
    },
    {
      "cell_type": "code",
      "execution_count": null,
      "metadata": {
        "collapsed": false
      },
      "outputs": [],
      "source": [
        "from himalaya.kernel_ridge import KernelRidgeCV"
      ]
    },
    {
      "cell_type": "markdown",
      "metadata": {},
      "source": [
        "``himalaya`` implements different computational backends,\n",
        "including two backends that use GPU for faster computations. The two\n",
        "available GPU backends are \"torch_cuda\" and \"cupy\". (Each backend is only\n",
        "available if you installed the corresponding package with CUDA enabled. Check\n",
        "the ``pytorch``/``cupy`` documentation for install instructions.)\n",
        "\n",
        "Here we use the \"torch_cuda\" backend, but if the import fails we continue\n",
        "with the default \"numpy\" backend. The \"numpy\" backend is expected to be\n",
        "slower since it only uses the CPU.\n",
        "\n"
      ]
    },
    {
      "cell_type": "code",
      "execution_count": null,
      "metadata": {
        "collapsed": false
      },
      "outputs": [],
      "source": [
        "from himalaya.backend import set_backend\n",
        "backend = set_backend(\"torch_cuda\", on_error=\"warn\")\n",
        "print(backend)"
      ]
    },
    {
      "cell_type": "markdown",
      "metadata": {},
      "source": [
        "To speed up model fitting on GPU, we use single precision float numbers.\n",
        "(This step probably does not change significantly the performances on non-GPU\n",
        "backends.)\n",
        "\n"
      ]
    },
    {
      "cell_type": "code",
      "execution_count": null,
      "metadata": {
        "collapsed": false
      },
      "outputs": [],
      "source": [
        "X_train = X_train.astype(\"float32\")\n",
        "X_test = X_test.astype(\"float32\")"
      ]
    },
    {
      "cell_type": "markdown",
      "metadata": {},
      "source": [
        "Since the scale of the regularization hyperparameter ``alpha`` is unknown, we\n",
        "use a large logarithmic range, and we will check after the fit that best\n",
        "hyperparameters are not all on one range edge.\n",
        "\n"
      ]
    },
    {
      "cell_type": "code",
      "execution_count": null,
      "metadata": {
        "collapsed": false
      },
      "outputs": [],
      "source": [
        "alphas = np.logspace(1, 20, 20)"
      ]
    },
    {
      "cell_type": "markdown",
      "metadata": {},
      "source": [
        "We also indicate some batch sizes to limit the GPU memory.\n",
        "\n"
      ]
    },
    {
      "cell_type": "code",
      "execution_count": null,
      "metadata": {
        "collapsed": false
      },
      "outputs": [],
      "source": [
        "kernel_ridge_cv = KernelRidgeCV(\n",
        "    alphas=alphas, cv=cv,\n",
        "    solver_params=dict(n_targets_batch=500, n_alphas_batch=5,\n",
        "                       n_targets_batch_refit=100))"
      ]
    },
    {
      "cell_type": "markdown",
      "metadata": {},
      "source": [
        "Finally, we use a ``scikit-learn`` ``Pipeline`` to link the different steps\n",
        "together. A ``Pipeline`` can be used as a regular estimator, calling\n",
        "``pipeline.fit``, ``pipeline.predict``, etc. Using a ``Pipeline`` can be\n",
        "useful to clarify the different steps, avoid cross-validation mistakes, or\n",
        "automatically cache intermediate results. See the ``scikit-learn``\n",
        "[documentation](https://scikit-learn.org/stable/modules/compose.html) for\n",
        "more information.\n",
        "\n"
      ]
    },
    {
      "cell_type": "code",
      "execution_count": null,
      "metadata": {
        "collapsed": false
      },
      "outputs": [],
      "source": [
        "from sklearn.pipeline import make_pipeline\n",
        "pipeline = make_pipeline(\n",
        "    scaler,\n",
        "    delayer,\n",
        "    kernel_ridge_cv,\n",
        ")"
      ]
    },
    {
      "cell_type": "markdown",
      "metadata": {},
      "source": [
        "We can display the ``scikit-learn`` pipeline with an HTML diagram.\n",
        "\n"
      ]
    },
    {
      "cell_type": "code",
      "execution_count": null,
      "metadata": {
        "collapsed": false
      },
      "outputs": [],
      "source": [
        "from sklearn import set_config\n",
        "set_config(display='diagram')  # requires scikit-learn 0.23\n",
        "pipeline"
      ]
    },
    {
      "cell_type": "markdown",
      "metadata": {},
      "source": [
        "## Fit the model\n",
        "\n",
        "We fit on the training set..\n",
        "\n"
      ]
    },
    {
      "cell_type": "code",
      "execution_count": null,
      "metadata": {
        "collapsed": false
      },
      "outputs": [],
      "source": [
        "_ = pipeline.fit(X_train, Y_train)"
      ]
    },
    {
      "cell_type": "markdown",
      "metadata": {},
      "source": [
        "..and score on the test set. Here the scores are the $R^2$ scores, with\n",
        "values in $]-\\infty, 1]$. A value of $1$ means the predictions\n",
        "are perfect.\n",
        "\n",
        "Note that since ``himalaya`` is implementing multiple-targets\n",
        "models, the ``score`` method differs from ``scikit-learn`` API and returns\n",
        "one score per target/voxel.\n",
        "\n"
      ]
    },
    {
      "cell_type": "code",
      "execution_count": null,
      "metadata": {
        "collapsed": false
      },
      "outputs": [],
      "source": [
        "scores = pipeline.score(X_test, Y_test)\n",
        "print(\"(n_voxels,) =\", scores.shape)"
      ]
    },
    {
      "cell_type": "markdown",
      "metadata": {},
      "source": [
        "If we fit the model on GPU, scores are returned on GPU using an array object\n",
        "specfic to the backend we used (such as a ``torch.Tensor``). Thus, we need to\n",
        "move them into ``numpy`` arrays on CPU, to be able to use them for example in\n",
        "a ``matplotlib`` figure.\n",
        "\n"
      ]
    },
    {
      "cell_type": "code",
      "execution_count": null,
      "metadata": {
        "collapsed": false
      },
      "outputs": [],
      "source": [
        "scores = backend.to_numpy(scores)"
      ]
    },
    {
      "cell_type": "markdown",
      "metadata": {},
      "source": [
        "## Plot the model prediction accuracy\n",
        "\n",
        "To visualize the model prediction accuracy, we can plot it for each voxel on\n",
        "a flattened surface of the brain. To do so, we use a mapper that is specific\n",
        "to the each subject's brain. (Check previous example to see how to use the\n",
        "mapper to Freesurfer average surface.)\n",
        "\n"
      ]
    },
    {
      "cell_type": "code",
      "execution_count": null,
      "metadata": {
        "collapsed": false
      },
      "outputs": [],
      "source": [
        "import matplotlib.pyplot as plt\n",
        "from voxelwise_tutorials.viz import plot_flatmap_from_mapper\n",
        "\n",
        "mapper_file = os.path.join(directory, \"mappers\", f\"{subject}_mappers.hdf\")\n",
        "ax = plot_flatmap_from_mapper(scores, mapper_file, vmin=0, vmax=0.4)\n",
        "plt.show()"
      ]
    },
    {
      "cell_type": "markdown",
      "metadata": {},
      "source": [
        "We can see that the \"wordnet\" features successfully predict part of the\n",
        "measured brain activity, with $R^2$ scores as high as 0.4. Note that\n",
        "these scores are generalization scores, since they are computed on a test set\n",
        "that was not used during model fitting. Since we fitted a model independently\n",
        "in each voxel, we can inspect the generalization performances at the best\n",
        "available spatial resolution: individual voxels.\n",
        "\n",
        "The best-predicted voxels are located in visual semantic areas like EBA, or\n",
        "FFA. This is expected since the wordnet features encode semantic information\n",
        "about the visual stimulus. For more discussions about these results, we refer\n",
        "the reader to the original publication {cite}`huth2012`.\n",
        "\n"
      ]
    },
    {
      "cell_type": "markdown",
      "metadata": {},
      "source": [
        "## Plot the selected hyperparameters\n",
        "\n",
        "Since the scale of alphas is unknown, we plot the optimal alphas selected by\n",
        "the solver over cross-validation. This plot is helpful to refine the alpha\n",
        "grid if the range is too small or too large.\n",
        "\n",
        "Note that some voxels might be at the maximum regularization value in the\n",
        "grid search. These are voxels where the model has no predictive power, thus\n",
        "the optimal regularization parameter is large to lead to a prediction equal\n",
        "to zero. We do not need to extend the alpha range for these voxels.\n",
        "\n"
      ]
    },
    {
      "cell_type": "code",
      "execution_count": null,
      "metadata": {
        "collapsed": false
      },
      "outputs": [],
      "source": [
        "from himalaya.viz import plot_alphas_diagnostic\n",
        "best_alphas = backend.to_numpy(pipeline[-1].best_alphas_)\n",
        "plot_alphas_diagnostic(best_alphas=best_alphas, alphas=alphas)\n",
        "plt.show()"
      ]
    },
    {
      "cell_type": "markdown",
      "metadata": {},
      "source": [
        "## Visualize the regression coefficients\n",
        "\n",
        "Here, we go back to the main model on all voxels. Since our model is linear,\n",
        "we can use the (primal) regression coefficients to interpret the model. The\n",
        "basic intuition is that the model will use larger coefficients on features\n",
        "that have more predictive power.\n",
        "\n",
        "Since we know the meaning of each feature, we can interpret the large\n",
        "regression coefficients. In the case of wordnet features, we can even build a\n",
        "graph that represents the features that are linked by a semantic\n",
        "relationship.\n",
        "\n"
      ]
    },
    {
      "cell_type": "markdown",
      "metadata": {},
      "source": [
        "We first get the (primal) ridge regression coefficients from the fitted\n",
        "model.\n",
        "\n"
      ]
    },
    {
      "cell_type": "code",
      "execution_count": null,
      "metadata": {
        "collapsed": false
      },
      "outputs": [],
      "source": [
        "primal_coef = pipeline[-1].get_primal_coef()\n",
        "primal_coef = backend.to_numpy(primal_coef)\n",
        "print(\"(n_delays * n_features, n_voxels) =\", primal_coef.shape)"
      ]
    },
    {
      "cell_type": "markdown",
      "metadata": {},
      "source": [
        "Because the ridge model allows a different regularization per voxel, the\n",
        "regression coefficients may have very different scales. In turn, these\n",
        "different scales can introduce a bias in the interpretation, focusing the\n",
        "attention disproportionately on voxels fitted with the lowest alpha. To\n",
        "address this issue, we rescale the regression coefficient to have a norm\n",
        "equal to the square-root of the $R^2$ scores. We found empirically that\n",
        "this rescaling best matches results obtained with a regularization shared\n",
        "accross voxels. This rescaling also removes the need to select only best\n",
        "performing voxels, because voxels with low prediction accuracies are rescaled\n",
        "to have a low norm.\n",
        "\n"
      ]
    },
    {
      "cell_type": "code",
      "execution_count": null,
      "metadata": {
        "collapsed": false
      },
      "outputs": [],
      "source": [
        "primal_coef /= np.linalg.norm(primal_coef, axis=0)[None]\n",
        "primal_coef *= np.sqrt(np.maximum(0, scores))[None]"
      ]
    },
    {
      "cell_type": "markdown",
      "metadata": {},
      "source": [
        "Then, we aggregate the coefficients across the different delays.\n",
        "\n"
      ]
    },
    {
      "cell_type": "code",
      "execution_count": null,
      "metadata": {
        "collapsed": false
      },
      "outputs": [],
      "source": [
        "# split the ridge coefficients per delays\n",
        "delayer = pipeline.named_steps['delayer']\n",
        "primal_coef_per_delay = delayer.reshape_by_delays(primal_coef, axis=0)\n",
        "print(\"(n_delays, n_features, n_voxels) =\", primal_coef_per_delay.shape)\n",
        "del primal_coef\n",
        "\n",
        "# average over delays\n",
        "average_coef = np.mean(primal_coef_per_delay, axis=0)\n",
        "print(\"(n_features, n_voxels) =\", average_coef.shape)\n",
        "del primal_coef_per_delay"
      ]
    },
    {
      "cell_type": "markdown",
      "metadata": {},
      "source": [
        "Even after averaging over delays, the coefficient matrix is still too large\n",
        "to interpret it. Therefore, we use principal component analysis (PCA) to\n",
        "reduce the dimensionality of the matrix.\n",
        "\n"
      ]
    },
    {
      "cell_type": "code",
      "execution_count": null,
      "metadata": {
        "collapsed": false
      },
      "outputs": [],
      "source": [
        "from sklearn.decomposition import PCA\n",
        "\n",
        "pca = PCA(n_components=4)\n",
        "pca.fit(average_coef.T)\n",
        "components = pca.components_\n",
        "print(\"(n_components, n_features) =\", components.shape)"
      ]
    },
    {
      "cell_type": "markdown",
      "metadata": {},
      "source": [
        "We can check the ratio of explained variance by each principal component.\n",
        "We see that the first four components already explain a large part of the\n",
        "coefficients variance.\n",
        "\n"
      ]
    },
    {
      "cell_type": "code",
      "execution_count": null,
      "metadata": {
        "collapsed": false
      },
      "outputs": [],
      "source": [
        "print(\"PCA explained variance =\", pca.explained_variance_ratio_)"
      ]
    },
    {
      "cell_type": "markdown",
      "metadata": {},
      "source": [
        "Similarly to [1]_, we correct the coefficients of features linked by a\n",
        "semantic relationship. When building the wordnet features, if a frame was\n",
        "labeled with `wolf`, the authors automatically added the semantically linked\n",
        "categories `canine`, `carnivore`, `placental mammal`, `mamma`, `vertebrate`,\n",
        "`chordate`, `organism`, and `whole`. The authors thus argue that the same\n",
        "correction needs to be done on the coefficients.\n",
        "\n"
      ]
    },
    {
      "cell_type": "code",
      "execution_count": null,
      "metadata": {
        "collapsed": false
      },
      "outputs": [],
      "source": [
        "from voxelwise_tutorials.wordnet import load_wordnet\n",
        "from voxelwise_tutorials.wordnet import correct_coefficients\n",
        "_, wordnet_categories = load_wordnet(directory=directory)\n",
        "components = correct_coefficients(components.T, wordnet_categories).T\n",
        "components -= components.mean(axis=1)[:, None]\n",
        "components /= components.std(axis=1)[:, None]"
      ]
    },
    {
      "cell_type": "markdown",
      "metadata": {},
      "source": [
        "Finally, we plot the first principal component on the wordnet graph. In such\n",
        "graph, edges indicate \"is a\" relationships (e.g. an `athlete` \"is a\"\n",
        "`person`). Each marker represents a single noun (circle) or verb (square).\n",
        "The area of each marker indicates the principal component magnitude, and the\n",
        "color indicates the sign (red is positive, blue is negative).\n",
        "\n"
      ]
    },
    {
      "cell_type": "code",
      "execution_count": null,
      "metadata": {
        "collapsed": false
      },
      "outputs": [],
      "source": [
        "from voxelwise_tutorials.wordnet import plot_wordnet_graph\n",
        "from voxelwise_tutorials.wordnet import apply_cmap\n",
        "\n",
        "first_component = components[0]\n",
        "node_sizes = np.abs(first_component)\n",
        "node_colors = apply_cmap(first_component, vmin=-2, vmax=2, cmap='coolwarm',\n",
        "                         n_colors=2)\n",
        "\n",
        "plot_wordnet_graph(node_colors=node_colors, node_sizes=node_sizes)\n",
        "plt.show()"
      ]
    },
    {
      "cell_type": "markdown",
      "metadata": {},
      "source": [
        "According to {cite:t}`huth2012`, \"this principal component distinguishes\n",
        "between categories with high stimulus energy (e.g. moving objects like\n",
        "`person` and `vehicle`) and those with low stimulus energy (e.g. stationary\n",
        "objects like `sky` and `city`)\".\n",
        "\n",
        "In this example, because we use only a single subject and we perform a\n",
        "different voxel selection, our result is slightly different than in the\n",
        "original publication. We also use a different regularization parameter in\n",
        "each voxel, while in {cite:t}`huth2012` all voxels had the same regularization parameter.\n",
        "However, we do not aim at reproducing exactly the results of the original\n",
        "publication, but we rather describe the general approach.\n",
        "\n"
      ]
    },
    {
      "cell_type": "markdown",
      "metadata": {},
      "source": [
        "To project the principal component on the cortical surface, we first need to\n",
        "use the fitted PCA to transform the primal weights of all voxels.\n",
        "\n"
      ]
    },
    {
      "cell_type": "code",
      "execution_count": null,
      "metadata": {
        "collapsed": false
      },
      "outputs": [],
      "source": [
        "# transform with the fitted PCA\n",
        "average_coef_transformed = pca.transform(average_coef.T).T\n",
        "print(\"(n_components, n_voxels) =\", average_coef_transformed.shape)\n",
        "del average_coef\n",
        "\n",
        "# We make sure vmin = -vmax, so that the colormap is centered on 0.\n",
        "vmax = np.percentile(np.abs(average_coef_transformed), 99.9)\n",
        "\n",
        "# plot the primal weights projected on the first principal component.\n",
        "ax = plot_flatmap_from_mapper(average_coef_transformed[0], mapper_file,\n",
        "                              vmin=-vmax, vmax=vmax, cmap='coolwarm')\n",
        "plt.show()"
      ]
    },
    {
      "cell_type": "markdown",
      "metadata": {},
      "source": [
        "This flatmap shows in which brain regions the model has the largest\n",
        "projection on the first component. Again, this result is different from the\n",
        "one in {cite:t}`huth2012`, and should only be considered as reproducing the general\n",
        "approach.\n",
        "\n"
      ]
    },
    {
      "cell_type": "markdown",
      "metadata": {},
      "source": [
        "Following the analyses in the original publication, we also plot the next three principal components on the\n",
        "wordnet graph, mapping the three vectors to RGB colors.\n",
        "\n"
      ]
    },
    {
      "cell_type": "code",
      "execution_count": null,
      "metadata": {
        "collapsed": false
      },
      "outputs": [],
      "source": [
        "from voxelwise_tutorials.wordnet import scale_to_rgb_cube\n",
        "\n",
        "next_three_components = components[1:4].T\n",
        "node_sizes = np.linalg.norm(next_three_components, axis=1)\n",
        "node_colors = scale_to_rgb_cube(next_three_components)\n",
        "print(\"(n_nodes, n_channels) =\", node_colors.shape)\n",
        "\n",
        "plot_wordnet_graph(node_colors=node_colors, node_sizes=node_sizes)\n",
        "plt.show()"
      ]
    },
    {
      "cell_type": "markdown",
      "metadata": {},
      "source": [
        "According to {cite:t}`huth2012`, \"this graph shows that categories thought\n",
        "to be semantically related (e.g. athletes and walking) are represented\n",
        "similarly in the brain\".\n",
        "\n"
      ]
    },
    {
      "cell_type": "markdown",
      "metadata": {},
      "source": [
        "Finally, we project these principal components on the cortical surface.\n",
        "\n"
      ]
    },
    {
      "cell_type": "code",
      "execution_count": null,
      "metadata": {
        "collapsed": false
      },
      "outputs": [],
      "source": [
        "from voxelwise_tutorials.viz import plot_3d_flatmap_from_mapper\n",
        "\n",
        "voxel_colors = scale_to_rgb_cube(average_coef_transformed[1:4].T, clip=3).T\n",
        "print(\"(n_channels, n_voxels) =\", voxel_colors.shape)\n",
        "\n",
        "ax = plot_3d_flatmap_from_mapper(voxel_colors[0], voxel_colors[1],\n",
        "                                 voxel_colors[2], mapper_file=mapper_file,\n",
        "                                 vmin=0, vmax=1, vmin2=0, vmax2=1, vmin3=0,\n",
        "                                 vmax3=1)\n",
        "plt.show()"
      ]
    },
    {
      "cell_type": "markdown",
      "metadata": {},
      "source": [
        "Again, our results are different from the ones in {cite:t}`huth2012`, for the same reasons\n",
        "mentioned earlier.\n",
        "\n"
      ]
    },
    {
      "cell_type": "markdown",
      "metadata": {},
      "source": [
        "## References\n",
        "\n",
        "```{bibliography}\n",
        ":filter: docname in docnames\n",
        "```"
      ]
    }
  ],
  "metadata": {
    "kernelspec": {
      "display_name": "Python 3",
      "language": "python",
      "name": "python3"
    },
    "language_info": {
      "codemirror_mode": {
        "name": "ipython",
        "version": 3
      },
      "file_extension": ".py",
      "mimetype": "text/x-python",
      "name": "python",
      "nbconvert_exporter": "python",
      "pygments_lexer": "ipython3",
      "version": "3.7.12"
    }
  },
  "nbformat": 4,
  "nbformat_minor": 0
}
