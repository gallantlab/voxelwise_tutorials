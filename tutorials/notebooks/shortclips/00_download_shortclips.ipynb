{
  "cells": [
    {
      "cell_type": "markdown",
      "metadata": {},
      "source": [
        "\n",
        "# Download the data set\n",
        "\n",
        "In this script, we download the data set from Wasabi or GIN. No account is required.\n",
        "\n",
        ":::{note}\n",
        "This script will download approximately 2GB of data.\n",
        ":::\n",
        "\n",
        "\n",
        "## Cite this data set\n",
        "\n",
        "This tutorial is based on publicly available data [published on GIN](https://gin.g-node.org/gallantlab/shortclips). If you publish any work using\n",
        "this data set, please cite the original publication {cite}`huth2012`, and the data set {cite}`huth2022data`."
      ]
    },
    {
      "cell_type": "markdown",
      "metadata": {},
      "source": [
        "## Download\n",
        "\n"
      ]
    },
    {
      "cell_type": "code",
      "execution_count": null,
      "metadata": {
        "collapsed": false
      },
      "outputs": [],
      "source": [
        "# path of the data directory\n",
        "from voxelwise_tutorials.io import get_data_home\n",
        "directory = get_data_home(dataset=\"shortclips\")\n",
        "print(directory)"
      ]
    },
    {
      "cell_type": "markdown",
      "metadata": {},
      "source": [
        "We will only use the first subject in this tutorial, but you can run the same\n",
        "analysis on the four other subjects. Uncomment the lines in ``DATAFILES`` to\n",
        "download more subjects.\n",
        "\n",
        "We also skip the stimuli files, since the dataset provides two preprocessed\n",
        "feature spaces to perform voxelwise modeling without requiring the original\n",
        "stimuli.\n",
        "\n"
      ]
    },
    {
      "cell_type": "code",
      "execution_count": null,
      "metadata": {
        "collapsed": false
      },
      "outputs": [],
      "source": [
        "from voxelwise_tutorials.io import download_datalad\n",
        "\n",
        "DATAFILES = [\n",
        "    \"features/motion_energy.hdf\",\n",
        "    \"features/wordnet.hdf\",\n",
        "    \"mappers/S01_mappers.hdf\",\n",
        "    # \"mappers/S02_mappers.hdf\",\n",
        "    # \"mappers/S03_mappers.hdf\",\n",
        "    # \"mappers/S04_mappers.hdf\",\n",
        "    # \"mappers/S05_mappers.hdf\",\n",
        "    \"responses/S01_responses.hdf\",\n",
        "    # \"responses/S02_responses.hdf\",\n",
        "    # \"responses/S03_responses.hdf\",\n",
        "    # \"responses/S04_responses.hdf\",\n",
        "    # \"responses/S05_responses.hdf\",\n",
        "    # \"stimuli/test.hdf\",\n",
        "    # \"stimuli/train_00.hdf\",\n",
        "    # \"stimuli/train_01.hdf\",\n",
        "    # \"stimuli/train_02.hdf\",\n",
        "    # \"stimuli/train_03.hdf\",\n",
        "    # \"stimuli/train_04.hdf\",\n",
        "    # \"stimuli/train_05.hdf\",\n",
        "    # \"stimuli/train_06.hdf\",\n",
        "    # \"stimuli/train_07.hdf\",\n",
        "    # \"stimuli/train_08.hdf\",\n",
        "    # \"stimuli/train_09.hdf\",\n",
        "    # \"stimuli/train_10.hdf\",\n",
        "    # \"stimuli/train_11.hdf\",\n",
        "]\n",
        "\n",
        "source = \"https://gin.g-node.org/gallantlab/shortclips\"\n",
        "\n",
        "for datafile in DATAFILES:\n",
        "    local_filename = download_datalad(datafile, destination=directory,\n",
        "                                      source=source)"
      ]
    },
    {
      "cell_type": "markdown",
      "metadata": {},
      "source": [
        "## References\n",
        "\n",
        "```{bibliography}\n",
        ":filter: docname in docnames\n",
        "```"
      ]
    }
  ],
  "metadata": {
    "kernelspec": {
      "display_name": "Python 3",
      "language": "python",
      "name": "python3"
    },
    "language_info": {
      "codemirror_mode": {
        "name": "ipython",
        "version": 3
      },
      "file_extension": ".py",
      "mimetype": "text/x-python",
      "name": "python",
      "nbconvert_exporter": "python",
      "pygments_lexer": "ipython3",
      "version": "3.7.12"
    }
  },
  "nbformat": 4,
  "nbformat_minor": 0
}
