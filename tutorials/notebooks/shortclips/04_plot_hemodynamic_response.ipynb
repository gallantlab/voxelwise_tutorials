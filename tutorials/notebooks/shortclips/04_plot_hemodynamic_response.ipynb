{
  "cells": [
    {
      "cell_type": "markdown",
      "metadata": {},
      "source": [
        "\n# Visualize the hemodynamic response\n\nIn this example, we describe how the hemodynamic response function was\nestimated in the previous model. We fit the same ridge model as in the previous\nexample, and further describe the need to delay the features in time to account\nfor the delayed BOLD response.\n\nBecause of the temporal dynamics of neurovascular coupling, the recorded BOLD\nsignal is delayed in time with respect to the stimulus. To account for this\nlag, we fit encoding models on delayed features. In this way, the linear\nregression model weighs each delayed feature separately and recovers the shape\nof the hemodynamic response function in each voxel separately. In turn, this\nmethod (also known as a Finite Impulse Response model, or FIR) maximizes the\nmodel prediction accuracy. With a repetition time of 2 seconds, we typically\nuse 4 delays [1, 2, 3, 4] to cover the peak of the the hemodynamic response\nfunction. However, the optimal number of delays can vary depending on the\nexperiment and the brain area of interest, so you should experiment with\ndifferent delays.\n\nIn this example, we show that a model without delays performs far worse than a\nmodel with delays. We also show how to visualize the estimated hemodynamic\nresponse function (HRF) from a model with delays.\n"
      ]
    },
    {
      "cell_type": "code",
      "execution_count": null,
      "metadata": {
        "collapsed": false
      },
      "outputs": [],
      "source": [
        ""
      ]
    },
    {
      "cell_type": "markdown",
      "metadata": {},
      "source": [
        "## Path of the data directory\n\n"
      ]
    },
    {
      "cell_type": "code",
      "execution_count": null,
      "metadata": {
        "collapsed": false
      },
      "outputs": [],
      "source": [
        "from voxelwise_tutorials.io import get_data_home\n\ndirectory = get_data_home(dataset=\"shortclips\")\nprint(directory)"
      ]
    },
    {
      "cell_type": "code",
      "execution_count": null,
      "metadata": {
        "collapsed": false
      },
      "outputs": [],
      "source": [
        "# modify to use another subject\nsubject = \"S01\""
      ]
    },
    {
      "cell_type": "markdown",
      "metadata": {},
      "source": [
        "## Load the data\n\nWe first load the fMRI responses.\n\n"
      ]
    },
    {
      "cell_type": "code",
      "execution_count": null,
      "metadata": {
        "collapsed": false
      },
      "outputs": [],
      "source": [
        "import os\nimport numpy as np\nfrom voxelwise_tutorials.io import load_hdf5_array\n\nfile_name = os.path.join(directory, \"responses\", f\"{subject}_responses.hdf\")\nY_train = load_hdf5_array(file_name, key=\"Y_train\")\nY_test = load_hdf5_array(file_name, key=\"Y_test\")\n\nprint(\"(n_samples_train, n_voxels) =\", Y_train.shape)\nprint(\"(n_repeats, n_samples_test, n_voxels) =\", Y_test.shape)"
      ]
    },
    {
      "cell_type": "markdown",
      "metadata": {},
      "source": [
        "We average the test repeats, to remove the non-repeatable part of fMRI\nresponses.\n\n"
      ]
    },
    {
      "cell_type": "code",
      "execution_count": null,
      "metadata": {
        "collapsed": false
      },
      "outputs": [],
      "source": [
        "Y_test = Y_test.mean(0)\n\nprint(\"(n_samples_test, n_voxels) =\", Y_test.shape)"
      ]
    },
    {
      "cell_type": "markdown",
      "metadata": {},
      "source": [
        "We fill potential NaN (not-a-number) values with zeros.\n\n"
      ]
    },
    {
      "cell_type": "code",
      "execution_count": null,
      "metadata": {
        "collapsed": false
      },
      "outputs": [],
      "source": [
        "Y_train = np.nan_to_num(Y_train)\nY_test = np.nan_to_num(Y_test)"
      ]
    },
    {
      "cell_type": "markdown",
      "metadata": {},
      "source": [
        "Then, we load the semantic \"wordnet\" features.\n\n"
      ]
    },
    {
      "cell_type": "code",
      "execution_count": null,
      "metadata": {
        "collapsed": false
      },
      "outputs": [],
      "source": [
        "feature_space = \"wordnet\"\n\nfile_name = os.path.join(directory, \"features\", f\"{feature_space}.hdf\")\nX_train = load_hdf5_array(file_name, key=\"X_train\")\nX_test = load_hdf5_array(file_name, key=\"X_test\")\n\nprint(\"(n_samples_train, n_features) =\", X_train.shape)\nprint(\"(n_samples_test, n_features) =\", X_test.shape)"
      ]
    },
    {
      "cell_type": "markdown",
      "metadata": {},
      "source": [
        "## Define the cross-validation scheme\n\nWe define the same leave-one-run-out cross-validation split as in the\nprevious example.\n\n"
      ]
    },
    {
      "cell_type": "code",
      "execution_count": null,
      "metadata": {
        "collapsed": false
      },
      "outputs": [],
      "source": [
        "from sklearn.model_selection import check_cv\nfrom voxelwise_tutorials.utils import generate_leave_one_run_out\n\n# indice of first sample of each run\nrun_onsets = load_hdf5_array(file_name, key=\"run_onsets\")\nprint(run_onsets)"
      ]
    },
    {
      "cell_type": "markdown",
      "metadata": {},
      "source": [
        "We define a cross-validation splitter, compatible with ``scikit-learn`` API.\n\n"
      ]
    },
    {
      "cell_type": "code",
      "execution_count": null,
      "metadata": {
        "collapsed": false
      },
      "outputs": [],
      "source": [
        "n_samples_train = X_train.shape[0]\ncv = generate_leave_one_run_out(n_samples_train, run_onsets)\ncv = check_cv(cv)  # copy the cross-validation splitter into a reusable list"
      ]
    },
    {
      "cell_type": "markdown",
      "metadata": {},
      "source": [
        "## Define the model\n\nWe define the same model as in the previous example. See the previous\nexample for more details about the model definition.\n\n"
      ]
    },
    {
      "cell_type": "code",
      "execution_count": null,
      "metadata": {
        "collapsed": false
      },
      "outputs": [],
      "source": [
        "from sklearn.pipeline import make_pipeline\nfrom sklearn.preprocessing import StandardScaler\nfrom voxelwise_tutorials.delayer import Delayer\nfrom himalaya.kernel_ridge import KernelRidgeCV\nfrom himalaya.ridge import RidgeCV\nfrom himalaya.backend import set_backend\n\nbackend = set_backend(\"torch_cuda\", on_error=\"warn\")\n\nX_train = X_train.astype(\"float32\")\nX_test = X_test.astype(\"float32\")\n\nalphas = np.logspace(1, 20, 20)\n\npipeline = make_pipeline(\n    StandardScaler(with_mean=True, with_std=False),\n    Delayer(delays=[1, 2, 3, 4]),\n    KernelRidgeCV(\n        alphas=alphas, cv=cv,\n        solver_params=dict(n_targets_batch=500, n_alphas_batch=5,\n                           n_targets_batch_refit=100)),\n)"
      ]
    },
    {
      "cell_type": "code",
      "execution_count": null,
      "metadata": {
        "collapsed": false
      },
      "outputs": [],
      "source": [
        "from sklearn import set_config\n\nset_config(display='diagram')  # requires scikit-learn 0.23\npipeline"
      ]
    },
    {
      "cell_type": "markdown",
      "metadata": {},
      "source": [
        "## Fit the model\n\nWe fit on the train set, and score on the test set.\n\n"
      ]
    },
    {
      "cell_type": "code",
      "execution_count": null,
      "metadata": {
        "collapsed": false
      },
      "outputs": [],
      "source": [
        "pipeline.fit(X_train, Y_train)\n\nscores = pipeline.score(X_test, Y_test)\nscores = backend.to_numpy(scores)\nprint(\"(n_voxels,) =\", scores.shape)"
      ]
    },
    {
      "cell_type": "markdown",
      "metadata": {},
      "source": [
        "## Intermission: understanding delays\n\nTo have an intuitive understanding of what we accomplish by delaying the\nfeatures before model fitting, we will simulate one voxel and a single\nfeature. We will then create a ``Delayer`` object (which was used in the\nprevious pipeline) and visualize its effect on our single feature. Let's\nstart by simulating the data.\n\n"
      ]
    },
    {
      "cell_type": "code",
      "execution_count": null,
      "metadata": {
        "collapsed": false
      },
      "outputs": [],
      "source": [
        "# number of total trs\nn_trs = 50\n# repetition time for the simulated data\nTR = 2.0\nrng = np.random.RandomState(42)\ny = rng.randn(n_trs)\nx = np.zeros(n_trs)\n# add some arbitrary value to our feature\nx[15:20] = .5\nx += rng.randn(n_trs) * 0.1  # add some noise\n\n# create a delayer object and delay the features\ndelayer = Delayer(delays=[0, 1, 2, 3, 4])\nx_delayed = delayer.fit_transform(x[:, None])"
      ]
    },
    {
      "cell_type": "markdown",
      "metadata": {},
      "source": [
        "In the next cell we are plotting six lines. The subplot at the top shows the\nsimulated BOLD response, while the other subplots show the simulated feature\nat different delays. The effect of the delayer is clear: it creates multiple\ncopies of the original feature shifted forward in time by how many samples we\nrequested (in this case, from 0 to 4 samples, which correspond to 0, 2, 4, 6,\nand 8 s in time with a 2 s TR).\n\nWhen these delayed features are used to fit a voxelwise encoding model, the\nbrain response $y$ at time $t$ is simultaneously modeled by the\nfeature $x$ at times $t-0, t-2, t-4, t-6, t-8$. In the remaining\nof this example we will see that this method improves model prediction\naccuracy and it allows to account for the underlying shape of the hemodynamic\nresponse function.\n\n"
      ]
    },
    {
      "cell_type": "code",
      "execution_count": null,
      "metadata": {
        "collapsed": false
      },
      "outputs": [],
      "source": [
        "import matplotlib.pyplot as plt\n\nfig, axs = plt.subplots(6, 1, figsize=(8, 6.5), constrained_layout=True,\n                        sharex=True)\ntimes = np.arange(n_trs) * TR\n\naxs[0].plot(times, y, color=\"r\")\naxs[0].set_title(\"BOLD response\")\nfor i, (ax, xx) in enumerate(zip(axs.flat[1:], x_delayed.T)):\n    ax.plot(times, xx, color='k')\n    ax.set_title(\"$x(t - {0:.0f})$ (feature delayed by {1} sample{2})\".format(\n        i * TR, i, \"\" if i == 1 else \"s\"))\nfor ax in axs.flat:\n    ax.axvline(40, color='gray')\n    ax.set_yticks([])\n_ = axs[-1].set_xlabel(\"Time [s]\")\nplt.show()"
      ]
    },
    {
      "cell_type": "markdown",
      "metadata": {},
      "source": [
        "## Compare with a model without delays\n\nWe define here another model without feature delays (i.e. no ``Delayer``).\nBecause the BOLD signal is inherently slow due to the dynamics of\nneuro-vascular coupling, this model is unlikely to perform well.\n\nNote that if we remove the feature delays, we will have more fMRI samples\n(3600) than number of features (1705). In this case, running a kernel version\nof ridge regression is computationally suboptimal. Thus, to create a model\nwithout delays we are using `RidgeCV` instead of `KernelRidgeCV`.\n\n"
      ]
    },
    {
      "cell_type": "code",
      "execution_count": null,
      "metadata": {
        "collapsed": false
      },
      "outputs": [],
      "source": [
        "pipeline_no_delay = make_pipeline(\n    StandardScaler(with_mean=True, with_std=False),\n    RidgeCV(\n        alphas=alphas, cv=cv, solver=\"svd\",\n        solver_params=dict(n_targets_batch=500, n_alphas_batch=5,\n                           n_targets_batch_refit=100)),\n)\npipeline_no_delay"
      ]
    },
    {
      "cell_type": "markdown",
      "metadata": {},
      "source": [
        "We fit and score the model as the previous one.\n\n"
      ]
    },
    {
      "cell_type": "code",
      "execution_count": null,
      "metadata": {
        "collapsed": false
      },
      "outputs": [],
      "source": [
        "pipeline_no_delay.fit(X_train, Y_train)\nscores_no_delay = pipeline_no_delay.score(X_test, Y_test)\nscores_no_delay = backend.to_numpy(scores_no_delay)\nprint(\"(n_voxels,) =\", scores_no_delay.shape)"
      ]
    },
    {
      "cell_type": "markdown",
      "metadata": {},
      "source": [
        "Then, we plot the comparison of model prediction accuracies with a 2D\nhistogram. All ~70k voxels are represented in this histogram, where the\ndiagonal corresponds to identical prediction accuracy for both models. A\ndistibution deviating from the diagonal means that one model has better\nprediction accuracy than the other.\n\n"
      ]
    },
    {
      "cell_type": "code",
      "execution_count": null,
      "metadata": {
        "collapsed": false
      },
      "outputs": [],
      "source": [
        "from voxelwise_tutorials.viz import plot_hist2d\n\nax = plot_hist2d(scores_no_delay, scores)\nax.set(\n    title='Generalization R2 scores',\n    xlabel='model without delays',\n    ylabel='model with delays',\n)\nplt.show()"
      ]
    },
    {
      "cell_type": "markdown",
      "metadata": {},
      "source": [
        "We see that the model with delays performs much better than the model without\ndelays. This can be seen in voxels with scores above 0. The distribution\nof scores below zero is not very informative, since it corresponds to voxels\nwith poor predictive performance anyway, and it only shows which model is\noverfitting the most.\n\n"
      ]
    },
    {
      "cell_type": "markdown",
      "metadata": {},
      "source": [
        "## Visualize the HRF\n\nWe just saw that delays are necessary to model BOLD responses. Here we show\nhow the fitted ridge regression weights follow the hemodynamic response\nfunction (HRF).\n\nFitting a kernel ridge regression results in a set of coefficients called the\n\"dual\" coefficients $w$. These coefficients differ from the \"primal\"\ncoefficients $\\beta$ obtained with a ridge regression, but the primal\ncoefficients can be computed from the dual coefficients using the training\nfeatures $X$:\n\n\\begin{align}\\beta = X^\\top w\\end{align}\n\nTo better visualize the HRF, we will refit a model with more delays, but only\non a selection of voxels to speed up the computations.\n\n"
      ]
    },
    {
      "cell_type": "code",
      "execution_count": null,
      "metadata": {
        "collapsed": false
      },
      "outputs": [],
      "source": [
        "# pick the 10 best voxels\nvoxel_selection = np.argsort(scores)[-10:]\n\n# define a pipeline with more delays\npipeline_more_delays = make_pipeline(\n    StandardScaler(with_mean=True, with_std=False),\n    Delayer(delays=[0, 1, 2, 3, 4, 5, 6]),\n    KernelRidgeCV(\n        alphas=alphas, cv=cv,\n        solver_params=dict(n_targets_batch=500, n_alphas_batch=5,\n                           n_targets_batch_refit=100)),\n)\n\npipeline_more_delays.fit(X_train, Y_train[:, voxel_selection])\n\n# get the (primal) ridge regression coefficients\nprimal_coef = pipeline_more_delays[-1].get_primal_coef()\nprimal_coef = backend.to_numpy(primal_coef)\n\n# split the ridge coefficients per delays\ndelayer = pipeline_more_delays.named_steps['delayer']\nprimal_coef_per_delay = delayer.reshape_by_delays(primal_coef, axis=0)\nprint(\"(n_delays, n_features, n_voxels) =\", primal_coef_per_delay.shape)\n\n# select the feature with the largest coefficients for each voxel\nfeature_selection = np.argmax(np.sum(np.abs(primal_coef_per_delay), axis=0),\n                              axis=0)\nprimal_coef_selection = primal_coef_per_delay[:, feature_selection,\n                                              np.arange(len(voxel_selection))]\n\nplt.plot(delayer.delays, primal_coef_selection)\nplt.xlabel('Delays')\nplt.xticks(delayer.delays)\nplt.ylabel('Ridge coefficients')\nplt.title(f'Largest feature for the {len(voxel_selection)} best voxels')\nplt.axhline(0, color='k', linewidth=0.5)\nplt.show()"
      ]
    },
    {
      "cell_type": "markdown",
      "metadata": {},
      "source": [
        "We see that the hemodynamic response function (HRF) is captured in the model\nweights. Note that in this dataset, the brain responses are recorded every\ntwo seconds.\n\n"
      ]
    }
  ],
  "metadata": {
    "kernelspec": {
      "display_name": "Python 3",
      "language": "python",
      "name": "python3"
    },
    "language_info": {
      "codemirror_mode": {
        "name": "ipython",
        "version": 3
      },
      "file_extension": ".py",
      "mimetype": "text/x-python",
      "name": "python",
      "nbconvert_exporter": "python",
      "pygments_lexer": "ipython3",
      "version": "3.7.12"
    }
  },
  "nbformat": 4,
  "nbformat_minor": 0
}