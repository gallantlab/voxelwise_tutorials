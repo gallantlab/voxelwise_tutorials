{
  "cells": [
    {
      "cell_type": "markdown",
      "metadata": {},
      "source": [
        "\n",
        "# Compute the explainable variance\n",
        "\n",
        "Before fitting any voxelwise model to fMRI responses, it is good practice to\n",
        "quantify the amount of signal in the test set that can be predicted by an\n",
        "encoding model. This quantity is called the *explainable variance*.\n",
        "\n",
        "The measured signal can be decomposed into a sum of two components: the\n",
        "stimulus-dependent signal and noise. If we present the same stimulus multiple\n",
        "times and we record brain activity for each repetition, the stimulus-dependent\n",
        "signal will be the same across repetitions while the noise will vary across\n",
        "repetitions. In the Voxelwise Encoding Model framework, \n",
        "the features used to model brain activity are the same for each repetition of the \n",
        "stimulus. Thus, encoding models will predict only the repeatable stimulus-dependent \n",
        "signal.\n",
        "\n",
        "The stimulus-dependent signal can be estimated by taking the mean of brain\n",
        "responses over repeats of the same stimulus or experiment. The variance of the\n",
        "estimated stimulus-dependent signal, which we call the explainable variance, is\n",
        "proportional to the maximum prediction accuracy that can be obtained by a\n",
        "voxelwise encoding model in the test set.\n",
        "\n",
        "Mathematically, let $y_i, i = 1 \\dots N$ be the measured signal in a\n",
        "voxel for each of the $N$ repetitions of the same stimulus and\n",
        "$\\bar{y} = \\frac{1}{N}\\sum_{i=1}^Ny_i$ the average brain response\n",
        "across repetitions. For each repeat, we define the residual timeseries between\n",
        "brain response and average brain response as $r_i = y_i - \\bar{y}$. The\n",
        "explainable variance (EV) is estimated as\n",
        "\n",
        "\\begin{align}\\text{EV} = \\frac{1}{N}\\sum_{i=1}^N\\text{Var}(y_i) - \\frac{N}{N-1}\\sum_{i=1}^N\\text{Var}(r_i)\\end{align}\n",
        "\n",
        "\n",
        "In the literature, the explainable variance is also known as the *signal\n",
        "power*.  \n",
        "\n",
        "For more information, see {cite:t}`Sahani2002`, {cite:t}`Hsu2004`, and {cite:t}`Schoppe2016`."
      ]
    },
    {
      "cell_type": "markdown",
      "metadata": {},
      "source": [
        "## Path of the data directory\n",
        "\n"
      ]
    },
    {
      "cell_type": "code",
      "execution_count": null,
      "metadata": {
        "collapsed": false
      },
      "outputs": [],
      "source": [
        "from voxelwise_tutorials.io import get_data_home\n",
        "\n",
        "directory = get_data_home(dataset=\"shortclips\")\n",
        "print(directory)"
      ]
    },
    {
      "cell_type": "code",
      "execution_count": null,
      "metadata": {
        "collapsed": false
      },
      "outputs": [],
      "source": [
        "# modify to use another subject\n",
        "subject = \"S01\""
      ]
    },
    {
      "cell_type": "markdown",
      "metadata": {},
      "source": [
        "## Compute the explainable variance\n",
        "\n"
      ]
    },
    {
      "cell_type": "code",
      "execution_count": null,
      "metadata": {
        "collapsed": false
      },
      "outputs": [],
      "source": [
        "import numpy as np\n",
        "from voxelwise_tutorials.io import load_hdf5_array"
      ]
    },
    {
      "cell_type": "markdown",
      "metadata": {},
      "source": [
        "First, we load the fMRI responses on the test set, which contains brain\n",
        "responses to ten (10) repeats of the same stimulus.\n",
        "\n"
      ]
    },
    {
      "cell_type": "code",
      "execution_count": null,
      "metadata": {
        "collapsed": false
      },
      "outputs": [],
      "source": [
        "import os\n",
        "\n",
        "file_name = os.path.join(directory, 'responses', f'{subject}_responses.hdf')\n",
        "Y_test = load_hdf5_array(file_name, key=\"Y_test\")\n",
        "print(\"(n_repeats, n_samples_test, n_voxels) =\", Y_test.shape)"
      ]
    },
    {
      "cell_type": "markdown",
      "metadata": {},
      "source": [
        "Then, we compute the explainable variance for each voxel.\n",
        "\n"
      ]
    },
    {
      "cell_type": "code",
      "execution_count": null,
      "metadata": {
        "collapsed": false
      },
      "outputs": [],
      "source": [
        "from voxelwise_tutorials.utils import explainable_variance\n",
        "\n",
        "ev = explainable_variance(Y_test)\n",
        "print(\"(n_voxels,) =\", ev.shape)"
      ]
    },
    {
      "cell_type": "markdown",
      "metadata": {},
      "source": [
        "To better understand the concept of explainable variance, we can plot the\n",
        "measured signal in a voxel with high explainable variance...\n",
        "\n"
      ]
    },
    {
      "cell_type": "code",
      "execution_count": null,
      "metadata": {
        "collapsed": false
      },
      "outputs": [],
      "source": [
        "import matplotlib.pyplot as plt\n",
        "\n",
        "voxel_1 = np.argmax(ev)\n",
        "time = np.arange(Y_test.shape[1]) * 2  # one time point every 2 seconds\n",
        "plt.figure(figsize=(10, 3))\n",
        "plt.plot(time, Y_test[:, :, voxel_1].T, color='C0', alpha=0.5)\n",
        "plt.plot(time, Y_test[:, :, voxel_1].mean(0), color='C1', label='average')\n",
        "plt.xlabel(\"Time (sec)\")\n",
        "plt.title(\"Voxel with large explainable variance (%.2f)\" % ev[voxel_1])\n",
        "plt.yticks([])\n",
        "plt.legend()\n",
        "plt.tight_layout()\n",
        "plt.show()"
      ]
    },
    {
      "cell_type": "markdown",
      "metadata": {},
      "source": [
        "... and in a voxel with low explainable variance.\n",
        "\n"
      ]
    },
    {
      "cell_type": "code",
      "execution_count": null,
      "metadata": {
        "collapsed": false
      },
      "outputs": [],
      "source": [
        "voxel_2 = np.argmin(ev)\n",
        "plt.figure(figsize=(10, 3))\n",
        "plt.plot(time, Y_test[:, :, voxel_2].T, color='C0', alpha=0.5)\n",
        "plt.plot(time, Y_test[:, :, voxel_2].mean(0), color='C1', label='average')\n",
        "plt.xlabel(\"Time (sec)\")\n",
        "plt.title(\"Voxel with low explainable variance (%.2f)\" % ev[voxel_2])\n",
        "plt.yticks([])\n",
        "plt.legend()\n",
        "plt.tight_layout()\n",
        "plt.show()"
      ]
    },
    {
      "cell_type": "markdown",
      "metadata": {},
      "source": [
        "We can also plot the distribution of explainable variance over voxels.\n",
        "\n"
      ]
    },
    {
      "cell_type": "code",
      "execution_count": null,
      "metadata": {
        "collapsed": false
      },
      "outputs": [],
      "source": [
        "plt.hist(ev, bins=np.linspace(0, 1, 100), log=True, histtype='step')\n",
        "plt.xlabel(\"Explainable variance\")\n",
        "plt.ylabel(\"Number of voxels\")\n",
        "plt.title('Histogram of explainable variance')\n",
        "plt.grid('on')\n",
        "plt.show()"
      ]
    },
    {
      "cell_type": "markdown",
      "metadata": {},
      "source": [
        "We see that many voxels have low explainable variance. This is\n",
        "expected, since many voxels are not driven by a visual stimulus, and their\n",
        "response changes over repeats of the same stimulus.\n",
        "We also see that some voxels have high explainable variance (around 0.7). The\n",
        "responses in these voxels are highly consistent across repetitions of the\n",
        "same stimulus. Thus, they are good targets for encoding models.\n",
        "\n"
      ]
    },
    {
      "cell_type": "markdown",
      "metadata": {},
      "source": [
        "## Map to subject flatmap\n",
        "\n",
        "To better understand the distribution of explainable variance, we map the\n",
        "values to the subject brain. This can be done with [pycortex](https://gallantlab.github.io/pycortex/), which can create interactive 3D\n",
        "viewers to be displayed in any modern browser. ``pycortex`` can also display\n",
        "flattened maps of the cortical surface to visualize the entire cortical\n",
        "surface at once.\n",
        "\n",
        "Here, we do not share the anatomical information of the subjects for privacy\n",
        "concerns. Instead, we provide two mappers:\n",
        "\n",
        "- to map the voxels to a (subject-specific) flatmap\n",
        "- to map the voxels to the Freesurfer average cortical surface (\"fsaverage\")\n",
        "\n",
        "The first mapper is 2D matrix of shape (n_pixels, n_voxels) that maps each\n",
        "voxel to a set of pixel in a flatmap. The matrix is efficiently stored in a\n",
        "``scipy`` sparse CSR matrix. The function ``plot_flatmap_from_mapper``\n",
        "provides an example of how to use the mapper and visualize the flatmap.\n",
        "\n"
      ]
    },
    {
      "cell_type": "code",
      "execution_count": null,
      "metadata": {
        "collapsed": false
      },
      "outputs": [],
      "source": [
        "from voxelwise_tutorials.viz import plot_flatmap_from_mapper\n",
        "\n",
        "mapper_file = os.path.join(directory, 'mappers', f'{subject}_mappers.hdf')\n",
        "plot_flatmap_from_mapper(ev, mapper_file, vmin=0, vmax=0.7)\n",
        "plt.show()"
      ]
    },
    {
      "cell_type": "markdown",
      "metadata": {},
      "source": [
        "This figure is a flattened map of the cortical surface. A number of regions\n",
        "of interest (ROIs) have been labeled to ease interpretation. If you have\n",
        "never seen such a flatmap, we recommend taking a look at a [pycortex brain\n",
        "viewer](https://www.gallantlab.org/brainviewer/Deniz2019), which displays\n",
        "the brain in 3D. In this viewer, press \"I\" to inflate the brain, \"F\" to\n",
        "flatten the surface, and \"R\" to reset the view (or use the ``surface/unfold``\n",
        "cursor on the right menu). Press \"H\" for a list of all keyboard shortcuts.\n",
        "This viewer should help you understand the correspondence between the flatten\n",
        "and the folded cortical surface of the brain.\n",
        "\n"
      ]
    },
    {
      "cell_type": "markdown",
      "metadata": {},
      "source": [
        "On this flatmap, we can see that the explainable variance is mainly located\n",
        "in the visual cortex, in early visual regions like V1, V2, V3, or in\n",
        "higher-level regions like EBA, FFA or IPS. This is expected since this\n",
        "dataset contains responses to a visual stimulus.\n",
        "\n"
      ]
    },
    {
      "cell_type": "markdown",
      "metadata": {},
      "source": [
        "## Map to \"fsaverage\"\n",
        "\n",
        "The second mapper we provide maps the voxel data to a Freesurfer\n",
        "average surface (\"fsaverage\"), that can be used in ``pycortex``.\n",
        "\n",
        "First, let's download the \"fsaverage\" surface.\n",
        "\n"
      ]
    },
    {
      "cell_type": "code",
      "execution_count": null,
      "metadata": {
        "collapsed": false
      },
      "outputs": [],
      "source": [
        "import cortex\n",
        "\n",
        "surface = \"fsaverage\"\n",
        "\n",
        "if not hasattr(cortex.db, surface):\n",
        "    cortex.utils.download_subject(subject_id=surface,\n",
        "                                  pycortex_store=cortex.db.filestore)\n",
        "    cortex.db.reload_subjects()  # force filestore reload\n",
        "    assert hasattr(cortex.db, surface)"
      ]
    },
    {
      "cell_type": "markdown",
      "metadata": {},
      "source": [
        "Then, we load the \"fsaverage\" mapper. The mapper is a matrix of shape\n",
        "(n_vertices, n_voxels), which maps each voxel to some vertices in the\n",
        "fsaverage surface. It is stored as a sparse CSR matrix. The mapper is applied\n",
        "with a dot product ``@`` (equivalent to ``np.dot``).\n",
        "\n"
      ]
    },
    {
      "cell_type": "code",
      "execution_count": null,
      "metadata": {
        "collapsed": false
      },
      "outputs": [],
      "source": [
        "from voxelwise_tutorials.io import load_hdf5_sparse_array\n",
        "\n",
        "voxel_to_fsaverage = load_hdf5_sparse_array(mapper_file,\n",
        "                                            key='voxel_to_fsaverage')\n",
        "ev_projected = voxel_to_fsaverage @ ev\n",
        "print(\"(n_vertices,) =\", ev_projected.shape)"
      ]
    },
    {
      "cell_type": "markdown",
      "metadata": {},
      "source": [
        "We can then create a ``Vertex`` object in ``pycortex``, containing the\n",
        "projected data. This object can be used either in a ``pycortex`` interactive\n",
        "3D viewer, or in a ``matplotlib`` figure showing only the flatmap.\n",
        "\n"
      ]
    },
    {
      "cell_type": "code",
      "execution_count": null,
      "metadata": {
        "collapsed": false
      },
      "outputs": [],
      "source": [
        "vertex = cortex.Vertex(ev_projected, surface, vmin=0, vmax=0.7, cmap='viridis')"
      ]
    },
    {
      "cell_type": "markdown",
      "metadata": {},
      "source": [
        "To start an interactive 3D viewer in the browser, we can use the ``webshow``\n",
        "function in pycortex. (Note that this method works only if you are running the\n",
        "notebooks locally.) You can start an interactive 3D viewer by changing\n",
        "``run_webshow`` to ``True`` and running the following cell.\n",
        "\n"
      ]
    },
    {
      "cell_type": "code",
      "execution_count": null,
      "metadata": {
        "collapsed": false
      },
      "outputs": [],
      "source": [
        "run_webshow = False\n",
        "if run_webshow:\n",
        "    cortex.webshow(vertex, open_browser=False, port=8050)"
      ]
    },
    {
      "cell_type": "markdown",
      "metadata": {},
      "source": [
        "Alternatively, to plot a flatmap in a ``matplotlib`` figure, use the\n",
        "`quickshow` function.\n",
        "\n",
        "(This function requires Inkscape to be installed. The rest of the tutorial\n",
        "does not use this function, so feel free to ignore.)\n",
        "\n"
      ]
    },
    {
      "cell_type": "code",
      "execution_count": null,
      "metadata": {
        "collapsed": false
      },
      "outputs": [],
      "source": [
        "from cortex.testing_utils import has_installed\n",
        "\n",
        "fig = cortex.quickshow(vertex, colorbar_location='right',\n",
        "                       with_rois=has_installed(\"inkscape\"))\n",
        "plt.show()"
      ]
    },
    {
      "cell_type": "markdown",
      "metadata": {},
      "source": [
        "## References\n",
        "```{bibliography}\n",
        ":filter: docname in docnames\n",
        "```"
      ]
    }
  ],
  "metadata": {
    "kernelspec": {
      "display_name": "Python 3",
      "language": "python",
      "name": "python3"
    },
    "language_info": {
      "codemirror_mode": {
        "name": "ipython",
        "version": 3
      },
      "file_extension": ".py",
      "mimetype": "text/x-python",
      "name": "python",
      "nbconvert_exporter": "python",
      "pygments_lexer": "ipython3",
      "version": "3.7.12"
    }
  },
  "nbformat": 4,
  "nbformat_minor": 0
}
