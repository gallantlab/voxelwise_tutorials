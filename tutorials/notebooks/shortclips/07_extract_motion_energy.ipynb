{
  "cells": [
    {
      "cell_type": "markdown",
      "metadata": {},
      "source": [
        "\n",
        "# Extract motion energy features from the stimuli\n",
        "\n",
        "This example shows how to extract motion-energy features from the stimuli.\n",
        "\n",
        ":::{warning} \n",
        "The public data set already contains precomputed motion-energy.\n",
        "Therefore, you do not need to run this script to fit motion-energy models\n",
        "in other part of this tutorial.\n",
        "\n",
        "Running this whole example takes a couple of hours.\n",
        ":::\n",
        "\n",
        "*Motion-energy features:* Motion-energy features result from filtering a video\n",
        "stimulus with spatio-temporal Gabor filters. A pyramid of filters is used to\n",
        "compute the motion-energy features at multiple spatial and temporal scales.\n",
        "Motion-energy features were introduced in {cite:t}`nishimoto2011`.\n",
        "\n",
        "The motion-energy extraction is performed by the package \n",
        "[pymoten](https://github.com/gallantlab/pymoten) {cite}`nunez2021software`.\n",
        "\n",
        "Check the pymoten [gallery of examples](https://gallantlab.github.io/pymoten/auto_examples/index.html) for\n",
        "visualizing motion-energy filters, and for pymoten API usage examples."
      ]
    },
    {
      "cell_type": "markdown",
      "metadata": {},
      "source": [
        "## Path of the data directory"
      ]
    },
    {
      "cell_type": "code",
      "execution_count": null,
      "metadata": {
        "collapsed": false
      },
      "outputs": [],
      "source": [
        "from voxelwise_tutorials.io import get_data_home\n",
        "directory = get_data_home(dataset=\"shortclips\")\n",
        "print(directory)"
      ]
    },
    {
      "cell_type": "markdown",
      "metadata": {},
      "source": [
        "## Load the stimuli images\n",
        "\n",
        "Here the data is not loaded in memory, we only take a peek at the data shape.\n",
        "\n"
      ]
    },
    {
      "cell_type": "code",
      "execution_count": null,
      "metadata": {
        "collapsed": false
      },
      "outputs": [],
      "source": [
        "import os\n",
        "import h5py\n",
        "\n",
        "first_file_name = os.path.join(directory, 'stimuli', 'train_00.hdf')\n",
        "print(f\"Content of {first_file_name}:\")\n",
        "with h5py.File(first_file_name, 'r') as f:\n",
        "    for key in f.keys():\n",
        "        print(f[key])"
      ]
    },
    {
      "cell_type": "markdown",
      "metadata": {},
      "source": [
        "## Compute the luminance\n",
        "\n",
        "The motion energy is typically not computed on RGB (color) images,\n",
        "but on the luminance channel of the LAB color space.\n",
        "To avoid loading the entire simulus array in memory, we use batches of data.\n",
        "These batches can be arbitrary, since the luminance is computed independently\n",
        "on each image.\n",
        "\n"
      ]
    },
    {
      "cell_type": "code",
      "execution_count": null,
      "metadata": {
        "collapsed": false
      },
      "outputs": [],
      "source": [
        "import numpy as np\n",
        "from moten.io import imagearray2luminance\n",
        "\n",
        "from himalaya.progress_bar import bar\n",
        "from voxelwise_tutorials.io import load_hdf5_array\n",
        "\n",
        "\n",
        "def compute_luminance(run_name, size=(96, 96), batch_size=100):\n",
        "\n",
        "    stimuli_file = os.path.join(directory, 'stimuli', run_name)\n",
        "\n",
        "    # get the number of images in the stimuli file\n",
        "    with h5py.File(stimuli_file, 'r') as f:\n",
        "        n_images = f['stimuli'].shape[0]\n",
        "\n",
        "    # compute the luminance on each batch\n",
        "    luminance = np.zeros((n_images, *size))\n",
        "    for start in bar(range(0, n_images, batch_size),\n",
        "                     title=f'compute_luminance({run_name})'):\n",
        "        # load the batch of images\n",
        "        batch = slice(start, start + batch_size)\n",
        "        images = load_hdf5_array(stimuli_file, key='stimuli', slice=batch)\n",
        "\n",
        "        # ``imagearray2luminance`` uses uint8 arrays\n",
        "        if images.dtype != 'uint8':\n",
        "            images = np.int_(np.clip(images, 0, 1) * 255).astype(np.uint8)\n",
        "\n",
        "        # convert RGB images to a single luminance channel\n",
        "        luminance[batch] = imagearray2luminance(images, size=size)\n",
        "\n",
        "    return luminance\n",
        "\n",
        "\n",
        "luminance_train = np.concatenate(\n",
        "    [compute_luminance(f\"train_{ii:02d}.hdf\") for ii in range(12)])\n",
        "luminance_test = compute_luminance(\"test.hdf\")"
      ]
    },
    {
      "cell_type": "markdown",
      "metadata": {},
      "source": [
        "## Compute the motion energy\n",
        "\n",
        "This is done with a ``MotionEnergyPyramid`` object of the ``pymoten``\n",
        "package. The parameters used are the one described in {cite:t}`nishimoto2011`.\n",
        "\n",
        "Here we use batches corresponding to run lengths. Indeed, motion energy is\n",
        "computed over multiple images, since the filters have a temporal component.\n",
        "Therefore, motion-energy is not independent of other images, and we cannot\n",
        "arbitrarily split the images.\n",
        "\n"
      ]
    },
    {
      "cell_type": "code",
      "execution_count": null,
      "metadata": {
        "collapsed": false
      },
      "outputs": [],
      "source": [
        "from scipy.signal import decimate\n",
        "from moten.pyramids import MotionEnergyPyramid\n",
        "\n",
        "# fixed experiment settings\n",
        "N_FRAMES_PER_SEC = 15\n",
        "N_FRAMES_PER_TR = 30\n",
        "N_TRS_PER_RUN = 300\n",
        "\n",
        "\n",
        "def compute_motion_energy(luminance,\n",
        "                          batch_size=N_TRS_PER_RUN * N_FRAMES_PER_TR,\n",
        "                          noise=0.1):\n",
        "\n",
        "    n_frames, height, width = luminance.shape\n",
        "\n",
        "    # We create a pyramid instance, with the main motion-energy parameters.\n",
        "    pyramid = MotionEnergyPyramid(stimulus_vhsize=(height, width),\n",
        "                                  stimulus_fps=N_FRAMES_PER_SEC,\n",
        "                                  spatial_frequencies=[0, 2, 4, 8, 16, 32])\n",
        "\n",
        "    # We batch images run by run.\n",
        "    motion_energy = np.zeros((n_frames, pyramid.nfilters))\n",
        "    for ii, start in enumerate(range(0, n_frames, batch_size)):\n",
        "        batch = slice(start, start + batch_size)\n",
        "        print(\"run %d\" % ii)\n",
        "\n",
        "        # add some noise to deal with constant black areas\n",
        "        luminance_batch = luminance[batch].copy()\n",
        "        luminance_batch += np.random.randn(*luminance_batch.shape) * noise\n",
        "        luminance_batch = np.clip(luminance_batch, 0, 100)\n",
        "\n",
        "        motion_energy[batch] = pyramid.project_stimulus(luminance_batch)\n",
        "\n",
        "    # decimate to the sampling frequency of fMRI responses\n",
        "    motion_energy_decimated = decimate(motion_energy, N_FRAMES_PER_TR,\n",
        "                                       ftype='fir', axis=0)\n",
        "    return motion_energy_decimated\n",
        "\n",
        "\n",
        "motion_energy_train = compute_motion_energy(luminance_train)\n",
        "motion_energy_test = compute_motion_energy(luminance_test)"
      ]
    },
    {
      "cell_type": "markdown",
      "metadata": {},
      "source": [
        "We end this script with saving the features. These features should be\n",
        "approximately equal to the \"motion-energy\" features already precomputed in\n",
        "the public data set.\n",
        "\n"
      ]
    },
    {
      "cell_type": "code",
      "execution_count": null,
      "metadata": {
        "collapsed": false
      },
      "outputs": [],
      "source": [
        "from voxelwise_tutorials.io import save_hdf5_dataset\n",
        "\n",
        "features_directory = os.path.join(directory, \"features\")\n",
        "if not os.path.exists(features_directory):\n",
        "    os.makedirs(features_directory)\n",
        "\n",
        "save_hdf5_dataset(\n",
        "    os.path.join(features_directory, \"motion_energy_recomputed.hdf\"),\n",
        "    dataset=dict(X_train=motion_energy_train, X_test=motion_energy_test,\n",
        "                 run_onsets=np.arange(0, 3600, 300)))"
      ]
    },
    {
      "cell_type": "markdown",
      "metadata": {},
      "source": [
        "## References\n",
        "\n",
        "```{bibliography}\n",
        ":filter: docname in docnames\n",
        "```"
      ]
    }
  ],
  "metadata": {
    "kernelspec": {
      "display_name": "Python 3",
      "language": "python",
      "name": "python3"
    },
    "language_info": {
      "codemirror_mode": {
        "name": "ipython",
        "version": 3
      },
      "file_extension": ".py",
      "mimetype": "text/x-python",
      "name": "python",
      "nbconvert_exporter": "python",
      "pygments_lexer": "ipython3",
      "version": "3.7.12"
    }
  },
  "nbformat": 4,
  "nbformat_minor": 0
}
