{
 "cells": [
  {
   "cell_type": "code",
   "execution_count": null,
   "metadata": {},
   "outputs": [],
   "source": [
    "%matplotlib inline"
   ]
  },
  {
   "cell_type": "markdown",
   "metadata": {},
   "source": [
    "\n",
    "# Setup Google Colab\n",
    "\n",
    "In this script, we setup a Google Colab environment. This script will only work\n",
    "when run from `Google Colab <https://colab.research.google.com/>`_). You can\n",
    "skip it if you run the tutorials on your machine.\n"
   ]
  },
  {
   "cell_type": "markdown",
   "metadata": {},
   "source": [
    "## Change runtime to use a GPU\n",
    "\n",
    "This tutorial is much faster when a GPU is available to run the computations.\n",
    "In Google Colab you can request access to a GPU by changing the runtime type.\n",
    "To do so, click the following menu options in Google Colab:\n",
    "\n",
    "(Menu) \"Runtime\" -> \"Change runtime type\" -> \"Hardware accelerator\" -> \"GPU\".\n",
    "\n"
   ]
  },
  {
   "cell_type": "markdown",
   "metadata": {},
   "source": [
    "## Download the data and install all required dependencies\n",
    "\n",
    "Uncomment and run the following cell to download the required packages.\n",
    "\n"
   ]
  },
  {
   "cell_type": "code",
   "execution_count": null,
   "metadata": {},
   "outputs": [],
   "source": [
    "# !git config --global user.email \"you@example.com\" && git config --global user.name \"Your Name\"\n",
    "# !wget -O- http://neuro.debian.net/lists/impish.us-ca.libre | sudo tee /etc/apt/sources.list.d/neurodebian.sources.list\n",
    "# !apt-key adv --recv-keys --keyserver hkps://keyserver.ubuntu.com 0xA5D32F012649A5A9 > /dev/null\n",
    "# !apt-get -qq update > /dev/nul\n",
    "# !apt-get install -qq inkscape git-annex-standalone > /dev/null\n",
    "# !pip install -q voxelwise_tutorials \n",
    "# ![ -f \"ngrok-stable-linux-amd64.zip\" ] || wget -q https://bin.equinox.io/c/4VmDzA7iaHb/ngrok-stable-linux-amd64.zip\n",
    "# ![ -f \"ngrok\" ] || unzip ngrok-stable-linux-amd64.zip"
   ]
  },
  {
   "cell_type": "markdown",
   "metadata": {},
   "source": [
    "For the record, here is what each command does:\n",
    "\n"
   ]
  },
  {
   "cell_type": "code",
   "execution_count": null,
   "metadata": {},
   "outputs": [],
   "source": [
    "# - Set up an email and user name to use git, git-annex, and datalad (required to download the data)\n",
    "# - Add NeuroDebian to the package sources\n",
    "# - Update the gpg keys to use NeuroDebian\n",
    "# - Update the list of available packages\n",
    "# - Install Inkscape to use more features from Pycortex, and install git-annex to download the data\n",
    "# - Install the tutorial helper package, and all the required dependencies\n",
    "# - Download ngrok to create a tunnel for pycortex 3D brain viewer\n",
    "# - Extract the ngrok archive"
   ]
  },
  {
   "cell_type": "markdown",
   "metadata": {},
   "source": [
    "Now run the following cell to install the data for the tutorials."
   ]
  },
  {
   "cell_type": "code",
   "execution_count": null,
   "metadata": {},
   "outputs": [],
   "source": [
    "colab_data_directory = \"/content\"\n",
    "\n",
    "from voxelwise_tutorials.io import download_datalad\n",
    "\n",
    "DATAFILES = [\n",
    "    \"features/motion_energy.hdf\",\n",
    "    \"features/wordnet.hdf\",\n",
    "    \"mappers/S01_mappers.hdf\",\n",
    "    # \"mappers/S02_mappers.hdf\",\n",
    "    # \"mappers/S03_mappers.hdf\",\n",
    "    # \"mappers/S04_mappers.hdf\",\n",
    "    # \"mappers/S05_mappers.hdf\",\n",
    "    \"responses/S01_responses.hdf\",\n",
    "    # \"responses/S02_responses.hdf\",\n",
    "    # \"responses/S03_responses.hdf\",\n",
    "    # \"responses/S04_responses.hdf\",\n",
    "    # \"responses/S05_responses.hdf\",\n",
    "    # \"stimuli/test.hdf\",\n",
    "    # \"stimuli/train_00.hdf\",\n",
    "    # \"stimuli/train_01.hdf\",\n",
    "    # \"stimuli/train_02.hdf\",\n",
    "    # \"stimuli/train_03.hdf\",\n",
    "    # \"stimuli/train_04.hdf\",\n",
    "    # \"stimuli/train_05.hdf\",\n",
    "    # \"stimuli/train_06.hdf\",\n",
    "    # \"stimuli/train_07.hdf\",\n",
    "    # \"stimuli/train_08.hdf\",\n",
    "    # \"stimuli/train_09.hdf\",\n",
    "    # \"stimuli/train_10.hdf\",\n",
    "    # \"stimuli/train_11.hdf\",\n",
    "]\n",
    "\n",
    "source = \"https://gin.g-node.org/gallantlab/shortclips\"\n",
    "\n",
    "for datafile in DATAFILES:\n",
    "    local_filename = download_datalad(\n",
    "        datafile, \n",
    "        destination=colab_data_directory, \n",
    "        source=source\n",
    "    )"
   ]
  },
  {
   "cell_type": "markdown",
   "metadata": {},
   "source": [
    "Now run the following cell to set up the environment variables for the\n",
    "tutorials and pycortex.\n",
    "\n"
   ]
  },
  {
   "cell_type": "code",
   "execution_count": null,
   "metadata": {},
   "outputs": [],
   "source": [
    "import os\n",
    "os.environ['VOXELWISE_TUTORIALS_DATA'] = colab_data_directory\n",
    "\n",
    "import sklearn\n",
    "sklearn.set_config(assume_finite=True)"
   ]
  },
  {
   "cell_type": "markdown",
   "metadata": {},
   "source": [
    "Your Google Colab environment is now set up for the voxelwise tutorials.\n",
    "\n"
   ]
  }
 ],
 "metadata": {
  "kernelspec": {
   "display_name": "Python 3 (ipykernel)",
   "language": "python",
   "name": "python3"
  },
  "language_info": {
   "codemirror_mode": {
    "name": "ipython",
    "version": 3
   },
   "file_extension": ".py",
   "mimetype": "text/x-python",
   "name": "python",
   "nbconvert_exporter": "python",
   "pygments_lexer": "ipython3",
   "version": "3.9.12"
  }
 },
 "nbformat": 4,
 "nbformat_minor": 1
}
