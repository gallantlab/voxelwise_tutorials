{
  "cells": [
    {
      "cell_type": "markdown",
      "metadata": {},
      "source": [
        "\n",
        "# Visualize the hemodynamic response\n",
        "\n",
        "In this example, we describe how the hemodynamic response function was\n",
        "estimated in the previous model. We fit the same ridge model as in the previous\n",
        "example, and further describe the need to delay the features in time to account\n",
        "for the delayed BOLD response.\n",
        "\n",
        "Because of the temporal dynamics of neurovascular coupling, the recorded BOLD\n",
        "signal is delayed in time with respect to the stimulus. To account for this\n",
        "lag, we fit encoding models on delayed features. In this way, the linear\n",
        "regression model weighs each delayed feature separately and recovers the shape\n",
        "of the hemodynamic response function in each voxel separately. In turn, this\n",
        "method (also known as a Finite Impulse Response model, or FIR) maximizes the\n",
        "model prediction accuracy. With a repetition time of 2 seconds, we typically\n",
        "use 4 delays `[1, 2, 3, 4]` to cover the peak of the the hemodynamic response\n",
        "function. However, the optimal number of delays can vary depending on the\n",
        "experiment and the brain area of interest, so you should experiment with\n",
        "different delays.\n",
        "\n",
        "In this example, we show that a model without delays performs far worse than a\n",
        "model with delays. We also show how to visualize the estimated hemodynamic\n",
        "response function (HRF) from a model with delays.\n"
      ]
    },
    {
      "cell_type": "markdown",
      "metadata": {},
      "source": [
        "## Path of the data directory\n",
        "\n"
      ]
    },
    {
      "cell_type": "code",
      "execution_count": null,
      "metadata": {
        "collapsed": false
      },
      "outputs": [],
      "source": [
        "from voxelwise_tutorials.io import get_data_home\n",
        "\n",
        "directory = get_data_home(dataset=\"shortclips\")\n",
        "print(directory)"
      ]
    },
    {
      "cell_type": "code",
      "execution_count": null,
      "metadata": {
        "collapsed": false
      },
      "outputs": [],
      "source": [
        "# modify to use another subject\n",
        "subject = \"S01\""
      ]
    },
    {
      "cell_type": "markdown",
      "metadata": {},
      "source": [
        "## Load the data\n",
        "\n",
        "We first load and normalize the fMRI responses."
      ]
    },
    {
      "cell_type": "code",
      "execution_count": null,
      "metadata": {
        "collapsed": false
      },
      "outputs": [],
      "source": [
        "import os\n",
        "import numpy as np\n",
        "from scipy.stats import zscore\n",
        "from voxelwise_tutorials.io import load_hdf5_array\n",
        "\n",
        "file_name = os.path.join(directory, \"responses\", f\"{subject}_responses.hdf\")\n",
        "Y_train = load_hdf5_array(file_name, key=\"Y_train\")\n",
        "Y_test = load_hdf5_array(file_name, key=\"Y_test\")\n",
        "\n",
        "print(\"(n_samples_train, n_voxels) =\", Y_train.shape)\n",
        "print(\"(n_repeats, n_samples_test, n_voxels) =\", Y_test.shape)\n",
        "\n",
        "# indice of first sample of each run\n",
        "run_onsets = load_hdf5_array(file_name, key=\"run_onsets\")\n",
        "\n",
        "# zscore each training run separately\n",
        "Y_train = np.split(Y_train, run_onsets[1:])\n",
        "Y_train = np.concatenate([zscore(run, axis=0) for run in Y_train], axis=0)\n",
        "# zscore each test run separately\n",
        "Y_test = zscore(Y_test, axis=1)"
      ]
    },
    {
      "cell_type": "markdown",
      "metadata": {},
      "source": [
        "We average the test repeats, to remove the non-repeatable part of fMRI\n",
        "responses, and normalize the average across repeats."
      ]
    },
    {
      "cell_type": "code",
      "execution_count": null,
      "metadata": {
        "collapsed": false
      },
      "outputs": [],
      "source": [
        "Y_test = Y_test.mean(0)\n",
        "Y_test = zscore(Y_test, axis=0)\n",
        "\n",
        "print(\"(n_samples_test, n_voxels) =\", Y_test.shape)"
      ]
    },
    {
      "cell_type": "markdown",
      "metadata": {},
      "source": [
        "We fill potential NaN (not-a-number) values with zeros.\n",
        "\n"
      ]
    },
    {
      "cell_type": "code",
      "execution_count": null,
      "metadata": {
        "collapsed": false
      },
      "outputs": [],
      "source": [
        "Y_train = np.nan_to_num(Y_train)\n",
        "Y_test = np.nan_to_num(Y_test)"
      ]
    },
    {
      "cell_type": "markdown",
      "metadata": {},
      "source": [
        "Then, we load the semantic \"wordnet\" features.\n",
        "\n"
      ]
    },
    {
      "cell_type": "code",
      "execution_count": null,
      "metadata": {
        "collapsed": false
      },
      "outputs": [],
      "source": [
        "feature_space = \"wordnet\"\n",
        "\n",
        "file_name = os.path.join(directory, \"features\", f\"{feature_space}.hdf\")\n",
        "X_train = load_hdf5_array(file_name, key=\"X_train\")\n",
        "X_test = load_hdf5_array(file_name, key=\"X_test\")\n",
        "\n",
        "print(\"(n_samples_train, n_features) =\", X_train.shape)\n",
        "print(\"(n_samples_test, n_features) =\", X_test.shape)"
      ]
    },
    {
      "cell_type": "markdown",
      "metadata": {},
      "source": [
        "## Define the cross-validation scheme\n",
        "\n",
        "We define the same leave-one-run-out cross-validation split as in the\n",
        "previous example.\n",
        "\n",
        "We define a cross-validation splitter, compatible with ``scikit-learn`` API."
      ]
    },
    {
      "cell_type": "code",
      "execution_count": null,
      "metadata": {
        "collapsed": false
      },
      "outputs": [],
      "source": [
        "from sklearn.model_selection import check_cv\n",
        "from voxelwise_tutorials.utils import generate_leave_one_run_out\n",
        "\n",
        "n_samples_train = X_train.shape[0]\n",
        "cv = generate_leave_one_run_out(n_samples_train, run_onsets)\n",
        "cv = check_cv(cv)  # copy the cross-validation splitter into a reusable list"
      ]
    },
    {
      "cell_type": "markdown",
      "metadata": {},
      "source": [
        "## Define the model\n",
        "\n",
        "We define the same model as in the previous example. See the previous\n",
        "example for more details about the model definition.\n",
        "\n"
      ]
    },
    {
      "cell_type": "code",
      "execution_count": null,
      "metadata": {
        "collapsed": false
      },
      "outputs": [],
      "source": [
        "from sklearn.pipeline import make_pipeline\n",
        "from sklearn.preprocessing import StandardScaler\n",
        "from voxelwise_tutorials.delayer import Delayer\n",
        "from himalaya.kernel_ridge import KernelRidgeCV\n",
        "from himalaya.ridge import RidgeCV\n",
        "from himalaya.backend import set_backend\n",
        "\n",
        "backend = set_backend(\"torch_cuda\", on_error=\"warn\")\n",
        "\n",
        "X_train = X_train.astype(\"float32\")\n",
        "X_test = X_test.astype(\"float32\")\n",
        "\n",
        "alphas = np.logspace(1, 20, 20)\n",
        "\n",
        "pipeline = make_pipeline(\n",
        "    StandardScaler(with_mean=True, with_std=False),\n",
        "    Delayer(delays=[1, 2, 3, 4]),\n",
        "    KernelRidgeCV(\n",
        "        alphas=alphas,\n",
        "        cv=cv,\n",
        "        solver_params=dict(\n",
        "            n_targets_batch=500, n_alphas_batch=5, n_targets_batch_refit=100\n",
        "        ),\n",
        "    ),\n",
        ")"
      ]
    },
    {
      "cell_type": "code",
      "execution_count": null,
      "metadata": {
        "collapsed": false
      },
      "outputs": [],
      "source": [
        "from sklearn import set_config\n",
        "\n",
        "set_config(display=\"diagram\")  # requires scikit-learn 0.23\n",
        "pipeline"
      ]
    },
    {
      "cell_type": "markdown",
      "metadata": {},
      "source": [
        "## Fit the model\n",
        "\n",
        "We fit on the train set, and score on the test set.\n",
        "\n"
      ]
    },
    {
      "cell_type": "code",
      "execution_count": null,
      "metadata": {
        "collapsed": false
      },
      "outputs": [],
      "source": [
        "pipeline.fit(X_train, Y_train)\n",
        "\n",
        "scores = pipeline.score(X_test, Y_test)\n",
        "scores = backend.to_numpy(scores)\n",
        "print(\"(n_voxels,) =\", scores.shape)"
      ]
    },
    {
      "cell_type": "markdown",
      "metadata": {},
      "source": [
        "## Intermission: understanding delays\n",
        "\n",
        "To have an intuitive understanding of what we accomplish by delaying the\n",
        "features before model fitting, we will simulate one voxel and a single\n",
        "feature. We will then create a ``Delayer`` object (which was used in the\n",
        "previous pipeline) and visualize its effect on our single feature. Let's\n",
        "start by simulating the data.\n",
        "\n"
      ]
    },
    {
      "cell_type": "code",
      "execution_count": null,
      "metadata": {
        "collapsed": false
      },
      "outputs": [],
      "source": [
        "# number of total trs\n",
        "n_trs = 50\n",
        "# repetition time for the simulated data\n",
        "TR = 2.0\n",
        "rng = np.random.RandomState(42)\n",
        "y = rng.randn(n_trs)\n",
        "x = np.zeros(n_trs)\n",
        "# add some arbitrary value to our feature\n",
        "x[15:20] = 0.5\n",
        "x += rng.randn(n_trs) * 0.1  # add some noise\n",
        "\n",
        "# create a delayer object and delay the features\n",
        "delayer = Delayer(delays=[0, 1, 2, 3, 4])\n",
        "x_delayed = delayer.fit_transform(x[:, None])"
      ]
    },
    {
      "cell_type": "markdown",
      "metadata": {},
      "source": [
        "In the next cell we are plotting six lines. The subplot at the top shows the\n",
        "simulated BOLD response, while the other subplots show the simulated feature\n",
        "at different delays. The effect of the delayer is clear: it creates multiple\n",
        "copies of the original feature shifted forward in time by how many samples we\n",
        "requested (in this case, from 0 to 4 samples, which correspond to 0, 2, 4, 6,\n",
        "and 8 s in time with a 2 s TR).\n",
        "\n",
        "When these delayed features are used to fit a voxelwise encoding model, the\n",
        "brain response $y$ at time $t$ is simultaneously modeled by the\n",
        "feature $x$ at times $t-0, t-2, t-4, t-6, t-8$. In the remaining\n",
        "of this example we will see that this method improves model prediction\n",
        "accuracy and it allows to account for the underlying shape of the hemodynamic\n",
        "response function.\n",
        "\n"
      ]
    },
    {
      "cell_type": "code",
      "execution_count": null,
      "metadata": {
        "collapsed": false
      },
      "outputs": [],
      "source": [
        "import matplotlib.pyplot as plt\n",
        "\n",
        "fig, axs = plt.subplots(6, 1, figsize=(6, 6), constrained_layout=True, sharex=True)\n",
        "times = np.arange(n_trs) * TR\n",
        "\n",
        "axs[0].plot(times, y, color=\"r\")\n",
        "axs[0].set_title(\"BOLD response\")\n",
        "for i, (ax, xx) in enumerate(zip(axs.flat[1:], x_delayed.T)):\n",
        "    ax.plot(times, xx, color=\"k\")\n",
        "    ax.set_title(\n",
        "        \"$x(t - {0:.0f})$ (feature delayed by {1} sample{2})\".format(\n",
        "            i * TR, i, \"\" if i == 1 else \"s\"\n",
        "        )\n",
        "    )\n",
        "for ax in axs.flat:\n",
        "    ax.axvline(40, color=\"gray\")\n",
        "    ax.set_yticks([])\n",
        "_ = axs[-1].set_xlabel(\"Time [s]\")\n",
        "plt.show()"
      ]
    },
    {
      "cell_type": "markdown",
      "metadata": {},
      "source": [
        "## Compare with a model without delays\n",
        "\n",
        "We define here another model without feature delays (i.e. no ``Delayer``).\n",
        "Because the BOLD signal is inherently slow due to the dynamics of\n",
        "neuro-vascular coupling, this model is unlikely to perform well.\n",
        "\n",
        "Note that if we remove the feature delays, we will have more fMRI samples\n",
        "(3600) than number of features (1705). In this case, running a kernel version\n",
        "of ridge regression is computationally suboptimal. Thus, to create a model\n",
        "without delays we are using `RidgeCV` instead of `KernelRidgeCV`.\n",
        "\n"
      ]
    },
    {
      "cell_type": "code",
      "execution_count": null,
      "metadata": {
        "collapsed": false
      },
      "outputs": [],
      "source": [
        "pipeline_no_delay = make_pipeline(\n",
        "    StandardScaler(with_mean=True, with_std=False),\n",
        "    RidgeCV(\n",
        "        alphas=alphas,\n",
        "        cv=cv,\n",
        "        solver=\"svd\",\n",
        "        solver_params=dict(\n",
        "            n_targets_batch=500, n_alphas_batch=5, n_targets_batch_refit=100\n",
        "        ),\n",
        "    ),\n",
        ")\n",
        "pipeline_no_delay"
      ]
    },
    {
      "cell_type": "markdown",
      "metadata": {},
      "source": [
        "We fit and score the model as the previous one.\n",
        "\n"
      ]
    },
    {
      "cell_type": "code",
      "execution_count": null,
      "metadata": {
        "collapsed": false
      },
      "outputs": [],
      "source": [
        "pipeline_no_delay.fit(X_train, Y_train)\n",
        "scores_no_delay = pipeline_no_delay.score(X_test, Y_test)\n",
        "scores_no_delay = backend.to_numpy(scores_no_delay)\n",
        "print(\"(n_voxels,) =\", scores_no_delay.shape)"
      ]
    },
    {
      "cell_type": "markdown",
      "metadata": {},
      "source": [
        "Then, we plot the comparison of model prediction accuracies with a 2D\n",
        "histogram. All ~70k voxels are represented in this histogram, where the\n",
        "diagonal corresponds to identical prediction accuracy for both models. A\n",
        "distribution deviating from the diagonal means that one model has better\n",
        "prediction accuracy than the other.\n",
        "\n"
      ]
    },
    {
      "cell_type": "code",
      "execution_count": null,
      "metadata": {
        "collapsed": false
      },
      "outputs": [],
      "source": [
        "from voxelwise_tutorials.viz import plot_hist2d\n",
        "\n",
        "ax = plot_hist2d(scores_no_delay, scores)\n",
        "ax.set(\n",
        "    title=\"Generalization R2 scores\",\n",
        "    xlabel=\"model without delays\",\n",
        "    ylabel=\"model with delays\",\n",
        ")\n",
        "plt.show()"
      ]
    },
    {
      "cell_type": "markdown",
      "metadata": {},
      "source": [
        "We see that the model with delays performs much better than the model without\n",
        "delays. This can be seen in voxels with scores above 0. The distribution\n",
        "of scores below zero is not very informative, since it corresponds to voxels\n",
        "with poor predictive performance anyway, and it only shows which model is\n",
        "overfitting the most.\n",
        "\n"
      ]
    },
    {
      "cell_type": "markdown",
      "metadata": {},
      "source": [
        "## Visualize the HRF\n",
        "\n",
        "We just saw that delays are necessary to model BOLD responses. Here we show\n",
        "how the fitted ridge regression weights follow the hemodynamic response\n",
        "function (HRF).\n",
        "\n",
        "Fitting a kernel ridge regression results in a set of coefficients called the\n",
        "\"dual\" coefficients $w$. These coefficients differ from the \"primal\"\n",
        "coefficients $\\beta$ obtained with a ridge regression, but the primal\n",
        "coefficients can be computed from the dual coefficients using the training\n",
        "features $X$:\n",
        "\n",
        "\\begin{align}\\beta = X^\\top w\\end{align}\n",
        "\n",
        "To better visualize the HRF, we will refit a model with more delays, but only\n",
        "on a selection of voxels to speed up the computations.\n",
        "\n"
      ]
    },
    {
      "cell_type": "code",
      "execution_count": null,
      "metadata": {
        "collapsed": false
      },
      "outputs": [],
      "source": [
        "# pick the 10 best voxels\n",
        "voxel_selection = np.argsort(scores)[-10:]\n",
        "\n",
        "# define a pipeline with more delays\n",
        "pipeline_more_delays = make_pipeline(\n",
        "    StandardScaler(with_mean=True, with_std=False),\n",
        "    Delayer(delays=[0, 1, 2, 3, 4, 5, 6]),\n",
        "    KernelRidgeCV(\n",
        "        alphas=alphas,\n",
        "        cv=cv,\n",
        "        solver_params=dict(\n",
        "            n_targets_batch=500, n_alphas_batch=5, n_targets_batch_refit=100\n",
        "        ),\n",
        "    ),\n",
        ")\n",
        "\n",
        "pipeline_more_delays.fit(X_train, Y_train[:, voxel_selection])\n",
        "\n",
        "# get the (primal) ridge regression coefficients\n",
        "primal_coef = pipeline_more_delays[-1].get_primal_coef()\n",
        "primal_coef = backend.to_numpy(primal_coef)\n",
        "\n",
        "# split the ridge coefficients per delays\n",
        "delayer = pipeline_more_delays.named_steps[\"delayer\"]\n",
        "primal_coef_per_delay = delayer.reshape_by_delays(primal_coef, axis=0)\n",
        "print(\"(n_delays, n_features, n_voxels) =\", primal_coef_per_delay.shape)\n",
        "\n",
        "# select the feature with the largest coefficients for each voxel\n",
        "feature_selection = np.argmax(np.sum(np.abs(primal_coef_per_delay), axis=0), axis=0)\n",
        "primal_coef_selection = primal_coef_per_delay[\n",
        "    :, feature_selection, np.arange(len(voxel_selection))\n",
        "]\n",
        "\n",
        "plt.plot(delayer.delays, primal_coef_selection)\n",
        "plt.xlabel(\"Delays\")\n",
        "plt.xticks(delayer.delays)\n",
        "plt.ylabel(\"Ridge coefficients\")\n",
        "plt.title(f\"Largest feature for the {len(voxel_selection)} best voxels\")\n",
        "plt.axhline(0, color=\"k\", linewidth=0.5)\n",
        "plt.show()"
      ]
    },
    {
      "cell_type": "markdown",
      "metadata": {},
      "source": [
        "We see that the hemodynamic response function (HRF) is captured in the model\n",
        "weights. Note that in this dataset, the brain responses are recorded every\n",
        "two seconds.\n",
        "\n"
      ]
    }
  ],
  "metadata": {
    "kernelspec": {
      "display_name": "voxelwise_tutorials",
      "language": "python",
      "name": "python3"
    },
    "language_info": {
      "codemirror_mode": {
        "name": "ipython",
        "version": 3
      },
      "file_extension": ".py",
      "mimetype": "text/x-python",
      "name": "python",
      "nbconvert_exporter": "python",
      "pygments_lexer": "ipython3",
      "version": "3.10.13"
    }
  },
  "nbformat": 4,
  "nbformat_minor": 0
}
