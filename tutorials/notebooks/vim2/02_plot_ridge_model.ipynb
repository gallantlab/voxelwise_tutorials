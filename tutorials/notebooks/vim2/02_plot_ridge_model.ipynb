{
  "cells": [
    {
      "cell_type": "markdown",
      "metadata": {},
      "source": [
        "\n",
        "# Fit a ridge model with motion energy features\n",
        "\n",
        "In this example, we model the fMRI responses with motion-energy features\n",
        "extracted from the movie stimulus. The model is a regularized linear regression\n",
        "model.\n",
        "\n",
        "This tutorial reproduces part of the analysis described in {cite:t}`nishimoto2011`. See this publication for more details about the experiment, the\n",
        "motion-energy features, along with more results and more discussions.\n",
        "\n",
        "*Motion-energy features:* Motion-energy features result from filtering a video\n",
        "stimulus with spatio-temporal Gabor filters. A pyramid of filters is used to\n",
        "compute the motion-energy features at multiple spatial and temporal scales.\n",
        "Motion-energy features were introduced in {cite:t}`nishimoto2011`.\n",
        "\n",
        "*Summary:* We first concatenate the features with multiple delays, to account\n",
        "for the slow hemodynamic response. A linear regression model then weights each\n",
        "delayed feature with a different weight, to build a predictive model of BOLD\n",
        "activity. Again, the linear regression is regularized to improve robustness to\n",
        "correlated features and to improve generalization. The optimal regularization\n",
        "hyperparameter is selected independently on each voxel over a grid-search with\n",
        "cross-validation. Finally, the model generalization performance is evaluated on\n",
        "a held-out test set, comparing the model predictions with the ground-truth fMRI\n",
        "responses.\n"
      ]
    },
    {
      "cell_type": "markdown",
      "metadata": {},
      "source": [
        "## Load the data\n",
        "\n"
      ]
    },
    {
      "cell_type": "code",
      "execution_count": null,
      "metadata": {
        "collapsed": false
      },
      "outputs": [],
      "source": [
        "# path of the data directory\n",
        "from voxelwise_tutorials.io import get_data_home\n",
        "directory = get_data_home(dataset=\"vim-2\")\n",
        "print(directory)\n",
        "\n",
        "# modify to use another subject\n",
        "subject = \"subject1\""
      ]
    },
    {
      "cell_type": "markdown",
      "metadata": {},
      "source": [
        "Here the data is not loaded in memory, we only take a peek at the data shape.\n",
        "\n"
      ]
    },
    {
      "cell_type": "code",
      "execution_count": null,
      "metadata": {
        "collapsed": false
      },
      "outputs": [],
      "source": [
        "import os\n",
        "import h5py\n",
        "\n",
        "file_name = os.path.join(directory, f'VoxelResponses_{subject}.mat')\n",
        "with h5py.File(file_name, 'r') as f:\n",
        "    print(f.keys())  # Show all variables\n",
        "    for key in f.keys():\n",
        "        print(f[key])"
      ]
    },
    {
      "cell_type": "markdown",
      "metadata": {},
      "source": [
        "Then we load the fMRI responses.\n",
        "\n"
      ]
    },
    {
      "cell_type": "code",
      "execution_count": null,
      "metadata": {
        "collapsed": false
      },
      "outputs": [],
      "source": [
        "import numpy as np\n",
        "\n",
        "from voxelwise_tutorials.io import load_hdf5_array\n",
        "\n",
        "file_name = os.path.join(directory, f'VoxelResponses_{subject}.mat')\n",
        "Y_train = load_hdf5_array(file_name, key='rt')\n",
        "Y_test_repeats = load_hdf5_array(file_name, key='rva')\n",
        "\n",
        "# transpose to fit in scikit-learn's API\n",
        "Y_train = Y_train.T\n",
        "Y_test_repeats = np.transpose(Y_test_repeats, [1, 2, 0])\n",
        "\n",
        "# Change to True to select only voxels from (e.g.) left V1 (\"v1lh\");\n",
        "# Otherwise, all voxels will be modeled.\n",
        "if False:\n",
        "    roi = load_hdf5_array(file_name, key='/roi/v1lh').ravel()\n",
        "    mask = (roi == 1)\n",
        "    Y_train = Y_train[:, mask]\n",
        "    Y_test_repeats = Y_test_repeats[:, :, mask]\n",
        "\n",
        "# Z-score test runs, since the mean and scale of fMRI responses changes for\n",
        "# each run. The train runs are already zscored.\n",
        "Y_test_repeats -= np.mean(Y_test_repeats, axis=1, keepdims=True)\n",
        "Y_test_repeats /= np.std(Y_test_repeats, axis=1, keepdims=True)\n",
        "\n",
        "# Average test repeats, since we cannot model the non-repeatable part of\n",
        "# fMRI responses.\n",
        "Y_test = Y_test_repeats.mean(0)\n",
        "\n",
        "# remove nans, mainly present on non-cortical voxels\n",
        "Y_train = np.nan_to_num(Y_train)\n",
        "Y_test = np.nan_to_num(Y_test)"
      ]
    },
    {
      "cell_type": "markdown",
      "metadata": {},
      "source": [
        "Here we load the motion-energy features, that are going to be used for the\n",
        "linear regression model.\n",
        "\n"
      ]
    },
    {
      "cell_type": "code",
      "execution_count": null,
      "metadata": {
        "collapsed": false
      },
      "outputs": [],
      "source": [
        "file_name = os.path.join(directory, \"features\", \"motion_energy.hdf\")\n",
        "X_train = load_hdf5_array(file_name, key='X_train')\n",
        "X_test = load_hdf5_array(file_name, key='X_test')\n",
        "\n",
        "# We use single precision float to speed up model fitting on GPU.\n",
        "X_train = X_train.astype(\"float32\")\n",
        "X_test = X_test.astype(\"float32\")"
      ]
    },
    {
      "cell_type": "markdown",
      "metadata": {},
      "source": [
        "## Define the cross-validation scheme\n",
        "\n",
        "To select the best hyperparameter through cross-validation, we must define a\n",
        "train-validation splitting scheme. Since fMRI time-series are autocorrelated\n",
        "in time, we should preserve as much as possible the time blocks.\n",
        "In other words, since consecutive time samples are correlated, we should not\n",
        "put one time sample in the training set and the immediately following time\n",
        "sample in the validation set. Thus, we define here a leave-one-run-out\n",
        "cross-validation split, which preserves each recording run.\n",
        "\n"
      ]
    },
    {
      "cell_type": "code",
      "execution_count": null,
      "metadata": {
        "collapsed": false
      },
      "outputs": [],
      "source": [
        "from sklearn.model_selection import check_cv\n",
        "from voxelwise_tutorials.utils import generate_leave_one_run_out\n",
        "\n",
        "n_samples_train = X_train.shape[0]\n",
        "\n",
        "# indice of first sample of each run, each run having 600 samples\n",
        "run_onsets = np.arange(0, n_samples_train, 600)\n",
        "\n",
        "# define a cross-validation splitter, compatible with scikit-learn\n",
        "cv = generate_leave_one_run_out(n_samples_train, run_onsets)\n",
        "cv = check_cv(cv)  # copy the splitter into a reusable list"
      ]
    },
    {
      "cell_type": "markdown",
      "metadata": {},
      "source": [
        "## Define the model\n",
        "\n",
        "Now, let's define the model pipeline.\n",
        "\n"
      ]
    },
    {
      "cell_type": "code",
      "execution_count": null,
      "metadata": {
        "collapsed": false
      },
      "outputs": [],
      "source": [
        "from sklearn.pipeline import make_pipeline\n",
        "from sklearn.preprocessing import StandardScaler\n",
        "\n",
        "# Display the scikit-learn pipeline with an HTML diagram.\n",
        "from sklearn import set_config\n",
        "set_config(display='diagram')  # requires scikit-learn 0.23"
      ]
    },
    {
      "cell_type": "markdown",
      "metadata": {},
      "source": [
        "With one target, we could directly use the pipeline in scikit-learn's\n",
        "GridSearchCV, to select the optimal hyperparameters over cross-validation.\n",
        "However, GridSearchCV can only optimize one score. Thus, in the multiple\n",
        "target case, GridSearchCV can only optimize e.g. the mean score over targets.\n",
        "Here, we want to find a different optimal hyperparameter per target/voxel, so\n",
        "we use himalaya's KernelRidgeCV instead.\n",
        "\n"
      ]
    },
    {
      "cell_type": "code",
      "execution_count": null,
      "metadata": {
        "collapsed": false
      },
      "outputs": [],
      "source": [
        "from himalaya.kernel_ridge import KernelRidgeCV"
      ]
    },
    {
      "cell_type": "markdown",
      "metadata": {},
      "source": [
        "We first concatenate the features with multiple delays, to account for the\n",
        "hemodynamic response. The linear regression model will then weight each\n",
        "delayed feature with a different weight, to build a predictive model.\n",
        "\n",
        "With a sample every 1 second, we use 8 delays [1, 2, 3, 4, 5, 6, 7, 8] to\n",
        "cover the most part of the hemodynamic response peak.\n",
        "\n"
      ]
    },
    {
      "cell_type": "code",
      "execution_count": null,
      "metadata": {
        "collapsed": false
      },
      "outputs": [],
      "source": [
        "from voxelwise_tutorials.delayer import Delayer"
      ]
    },
    {
      "cell_type": "markdown",
      "metadata": {},
      "source": [
        "The package``himalaya`` implements different computational backends,\n",
        "including GPU backends. The available GPU backends are \"torch_cuda\" and\n",
        "\"cupy\". (These backends are only available if you installed the corresponding\n",
        "package with CUDA enabled. Check the pytorch/cupy documentation for install\n",
        "instructions.)\n",
        "\n",
        "Here we use the \"torch_cuda\" backend, but if the import fails we continue\n",
        "with the default \"numpy\" backend. The \"numpy\" backend is expected to be\n",
        "slower since it only uses the CPU.\n",
        "\n"
      ]
    },
    {
      "cell_type": "code",
      "execution_count": null,
      "metadata": {
        "collapsed": false
      },
      "outputs": [],
      "source": [
        "from himalaya.backend import set_backend\n",
        "backend = set_backend(\"torch_cuda\", on_error=\"warn\")"
      ]
    },
    {
      "cell_type": "markdown",
      "metadata": {},
      "source": [
        "The scale of the regularization hyperparameter alpha is unknown, so we use\n",
        "a large logarithmic range, and we will check after the fit that best\n",
        "hyperparameters are not all on one range edge.\n",
        "\n"
      ]
    },
    {
      "cell_type": "code",
      "execution_count": null,
      "metadata": {
        "collapsed": false
      },
      "outputs": [],
      "source": [
        "alphas = np.logspace(1, 20, 20)"
      ]
    },
    {
      "cell_type": "markdown",
      "metadata": {},
      "source": [
        "The scikit-learn Pipeline can be used as a regular estimator, calling\n",
        "pipeline.fit, pipeline.predict, etc.\n",
        "Using a pipeline can be useful to clarify the different steps, avoid\n",
        "cross-validation mistakes, or automatically cache intermediate results.\n",
        "\n"
      ]
    },
    {
      "cell_type": "code",
      "execution_count": null,
      "metadata": {
        "collapsed": false
      },
      "outputs": [],
      "source": [
        "pipeline = make_pipeline(\n",
        "    StandardScaler(with_mean=True, with_std=False),\n",
        "    Delayer(delays=[1, 2, 3, 4, 5, 6, 7, 8]),\n",
        "    KernelRidgeCV(\n",
        "        alphas=alphas, cv=cv,\n",
        "        solver_params=dict(n_targets_batch=100, n_alphas_batch=2,\n",
        "                           n_targets_batch_refit=50),\n",
        "        Y_in_cpu=True),\n",
        ")\n",
        "pipeline"
      ]
    },
    {
      "cell_type": "markdown",
      "metadata": {},
      "source": [
        "## Fit the model\n",
        "\n",
        "We fit on the train set, and score on the test set.\n",
        "\n"
      ]
    },
    {
      "cell_type": "code",
      "execution_count": null,
      "metadata": {
        "collapsed": false
      },
      "outputs": [],
      "source": [
        "pipeline.fit(X_train, Y_train)\n",
        "\n",
        "scores = pipeline.score(X_test, Y_test)\n",
        "# Since we performed the KernelRidgeCV on GPU, scores are returned as\n",
        "# torch.Tensor on GPU. Thus, we need to move them into numpy arrays on CPU, to\n",
        "# be able to use them e.g. in a matplotlib figure.\n",
        "scores = backend.to_numpy(scores)"
      ]
    },
    {
      "cell_type": "markdown",
      "metadata": {},
      "source": [
        "Since the scale of alphas is unknown, we plot the optimal alphas selected by\n",
        "the solver over cross-validation. This plot is helpful to refine the alpha\n",
        "grid if the range is too small or too large.\n",
        "\n",
        "Note that some voxels are at the maximum regularization of the grid. These\n",
        "are voxels where the model has no predictive power, and where the optimal\n",
        "regularization is large to lead to a prediction equal to zero.\n",
        "\n"
      ]
    },
    {
      "cell_type": "code",
      "execution_count": null,
      "metadata": {
        "collapsed": false
      },
      "outputs": [],
      "source": [
        "import matplotlib.pyplot as plt\n",
        "from himalaya.viz import plot_alphas_diagnostic\n",
        "\n",
        "plot_alphas_diagnostic(best_alphas=backend.to_numpy(pipeline[-1].best_alphas_),\n",
        "                       alphas=alphas)\n",
        "plt.show()"
      ]
    },
    {
      "cell_type": "markdown",
      "metadata": {},
      "source": [
        "## Compare with a model without delays\n",
        "\n",
        "To present an example of model comparison, we define here another model,\n",
        "without feature delays (i.e. no Delayer). This model is unlikely to perform\n",
        "well, since fMRI responses are delayed in time with respect to the stimulus.\n",
        "\n"
      ]
    },
    {
      "cell_type": "code",
      "execution_count": null,
      "metadata": {
        "collapsed": false
      },
      "outputs": [],
      "source": [
        "pipeline = make_pipeline(\n",
        "    StandardScaler(with_mean=True, with_std=False),\n",
        "    KernelRidgeCV(\n",
        "        alphas=alphas, cv=cv,\n",
        "        solver_params=dict(n_targets_batch=100, n_alphas_batch=2,\n",
        "                           n_targets_batch_refit=50),\n",
        "        Y_in_cpu=True),\n",
        ")\n",
        "pipeline"
      ]
    },
    {
      "cell_type": "code",
      "execution_count": null,
      "metadata": {
        "collapsed": false
      },
      "outputs": [],
      "source": [
        "pipeline.fit(X_train, Y_train)\n",
        "scores_nodelay = pipeline.score(X_test, Y_test)\n",
        "scores_nodelay = backend.to_numpy(scores_nodelay)"
      ]
    },
    {
      "cell_type": "markdown",
      "metadata": {},
      "source": [
        "Here we plot the comparison of model performances with a 2D histogram. All\n",
        "~70k voxels are represented in this histogram, where the diagonal corresponds\n",
        "to identical performance for both models. A distribution deviating from the\n",
        "diagonal means that one model has better predictive performances than the\n",
        "other.\n",
        "\n"
      ]
    },
    {
      "cell_type": "code",
      "execution_count": null,
      "metadata": {
        "collapsed": false
      },
      "outputs": [],
      "source": [
        "from voxelwise_tutorials.viz import plot_hist2d\n",
        "\n",
        "ax = plot_hist2d(scores_nodelay, scores)\n",
        "ax.set(title='Generalization R2 scores', xlabel='model without delays',\n",
        "       ylabel='model with delays')\n",
        "plt.show()"
      ]
    },
    {
      "cell_type": "markdown",
      "metadata": {},
      "source": [
        "## References\n",
        "\n",
        "```{bibliography}\n",
        ":filter: docname in docnames\n",
        "```"
      ]
    }
  ],
  "metadata": {
    "kernelspec": {
      "display_name": "Python 3",
      "language": "python",
      "name": "python3"
    },
    "language_info": {
      "codemirror_mode": {
        "name": "ipython",
        "version": 3
      },
      "file_extension": ".py",
      "mimetype": "text/x-python",
      "name": "python",
      "nbconvert_exporter": "python",
      "pygments_lexer": "ipython3",
      "version": "3.7.12"
    }
  },
  "nbformat": 4,
  "nbformat_minor": 0
}
