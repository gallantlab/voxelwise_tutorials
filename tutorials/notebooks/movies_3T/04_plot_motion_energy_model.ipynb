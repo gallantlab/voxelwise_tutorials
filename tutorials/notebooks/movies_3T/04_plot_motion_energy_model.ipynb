{
  "cells": [
    {
      "cell_type": "code",
      "execution_count": null,
      "metadata": {
        "collapsed": false
      },
      "outputs": [],
      "source": [
        "%matplotlib inline"
      ]
    },
    {
      "cell_type": "markdown",
      "metadata": {},
      "source": [
        "\n# Fit a ridge model with motion energy features\n\n\nIn this example, we model the fMRI responses with motion-energy features\nextracted from the movie stimulus. The model is a regularized linear regression\nmodel.\n\nThis tutorial reproduces part of the analysis described in Nishimoto et al\n(2011) [1]_. See this publication for more details about the experiment, the\nmotion-energy features, along with more results and more discussions.\n\n*Motion-energy features:* Motion-energy features result from filtering a video\nstimulus with spatio-temporal Gabor filters. A pyramid of filters is used to\ncompute the motion-energy features at multiple spatial and temporal scales.\nMotion-energy features were introduced in [1]_.\n\n*Summary:* As in the previous example, we first concatenate the features with\nmultiple delays, to account for the slow hemodynamic response. A linear\nregression model then weights each delayed feature with a different weight, to\nbuild a predictive model of BOLD activity. Again, the linear regression is\nregularized to improve robustness to correlated features and to improve\ngeneralization. The optimal regularization hyperparameter is selected\nindependently on each voxel over a grid-search with cross-validation. Finally,\nthe model generalization performance is evaluated on a held-out test set,\ncomparing the model predictions with the ground-truth fMRI responses.\n"
      ]
    },
    {
      "cell_type": "markdown",
      "metadata": {},
      "source": [
        "Path of the data directory\n\n"
      ]
    },
    {
      "cell_type": "code",
      "execution_count": null,
      "metadata": {
        "collapsed": false
      },
      "outputs": [],
      "source": [
        "import os\nfrom voxelwise_tutorials.io import get_data_home\ndirectory = os.path.join(get_data_home(), \"vim-4\")\nprint(directory)"
      ]
    },
    {
      "cell_type": "code",
      "execution_count": null,
      "metadata": {
        "collapsed": false
      },
      "outputs": [],
      "source": [
        "# modify to use another subject\nsubject = \"S01\""
      ]
    },
    {
      "cell_type": "markdown",
      "metadata": {},
      "source": [
        "Load the data\n-------------\n\nWe first load the fMRI responses.\n\n"
      ]
    },
    {
      "cell_type": "code",
      "execution_count": null,
      "metadata": {
        "collapsed": false
      },
      "outputs": [],
      "source": [
        "import numpy as np\n\nfrom voxelwise_tutorials.io import load_hdf5_array\n\nfile_name = os.path.join(directory, \"responses\", f\"{subject}_responses.hdf\")\nY_train = load_hdf5_array(file_name, key=\"Y_train\")\nY_test = load_hdf5_array(file_name, key=\"Y_test\")\n\nprint(\"(n_samples_train, n_voxels) =\", Y_train.shape)\nprint(\"(n_repeats, n_samples_test, n_voxels) =\", Y_test.shape)"
      ]
    },
    {
      "cell_type": "markdown",
      "metadata": {},
      "source": [
        "We average the test repeats, to remove the non-repeatable part of fMRI\nresponses.\n\n"
      ]
    },
    {
      "cell_type": "code",
      "execution_count": null,
      "metadata": {
        "collapsed": false
      },
      "outputs": [],
      "source": [
        "Y_test = Y_test.mean(0)\n\nprint(\"(n_samples_test, n_voxels) =\", Y_test.shape)"
      ]
    },
    {
      "cell_type": "markdown",
      "metadata": {},
      "source": [
        "We fill potential NaN (not-a-number) values with zeros.\n\n"
      ]
    },
    {
      "cell_type": "code",
      "execution_count": null,
      "metadata": {
        "collapsed": false
      },
      "outputs": [],
      "source": [
        "Y_train = np.nan_to_num(Y_train)\nY_test = np.nan_to_num(Y_test)"
      ]
    },
    {
      "cell_type": "markdown",
      "metadata": {},
      "source": [
        "Then we load the precomputed \"motion-energy\" features.\n\n"
      ]
    },
    {
      "cell_type": "code",
      "execution_count": null,
      "metadata": {
        "collapsed": false
      },
      "outputs": [],
      "source": [
        "feature_space = \"motion_energy\"\nfile_name = os.path.join(directory, \"features\", f\"{feature_space}.hdf\")\nX_train = load_hdf5_array(file_name, key=\"X_train\")\nX_test = load_hdf5_array(file_name, key=\"X_test\")\n\nprint(\"(n_samples_train, n_features) =\", X_train.shape)\nprint(\"(n_samples_test, n_features) =\", X_test.shape)"
      ]
    },
    {
      "cell_type": "markdown",
      "metadata": {},
      "source": [
        "Define the cross-validation scheme\n----------------------------------\n\nWe define the same leave-one-run-out cross-validation split as in the\nprevious example.\n\n"
      ]
    },
    {
      "cell_type": "code",
      "execution_count": null,
      "metadata": {
        "collapsed": false
      },
      "outputs": [],
      "source": [
        "from sklearn.model_selection import check_cv\nfrom voxelwise_tutorials.utils import generate_leave_one_run_out\n\n# indice of first sample of each run\nrun_onsets = load_hdf5_array(file_name, key=\"run_onsets\")\nprint(run_onsets)"
      ]
    },
    {
      "cell_type": "markdown",
      "metadata": {},
      "source": [
        "We define a cross-validation splitter, compatible with ``scikit-learn`` API.\n\n"
      ]
    },
    {
      "cell_type": "code",
      "execution_count": null,
      "metadata": {
        "collapsed": false
      },
      "outputs": [],
      "source": [
        "n_samples_train = X_train.shape[0]\ncv = generate_leave_one_run_out(n_samples_train, run_onsets)\ncv = check_cv(cv)  # copy the cross-validation splitter into a reusable list"
      ]
    },
    {
      "cell_type": "markdown",
      "metadata": {},
      "source": [
        "Define the model\n----------------\n\nWe define the same model as in the previous example. See the previous\nexample for more details about the model definition.\n\n"
      ]
    },
    {
      "cell_type": "code",
      "execution_count": null,
      "metadata": {
        "collapsed": false
      },
      "outputs": [],
      "source": [
        "from sklearn.pipeline import make_pipeline\nfrom sklearn.preprocessing import StandardScaler\nfrom voxelwise_tutorials.delayer import Delayer\nfrom himalaya.kernel_ridge import KernelRidgeCV\nfrom himalaya.backend import set_backend\nbackend = set_backend(\"torch_cuda\", on_error=\"warn\")\n\nX_train = X_train.astype(\"float32\")\nX_test = X_test.astype(\"float32\")\n\nalphas = np.logspace(1, 20, 20)\n\npipeline_motion_energy = make_pipeline(\n    StandardScaler(with_mean=True, with_std=False),\n    Delayer(delays=[1, 2, 3, 4]),\n    KernelRidgeCV(\n        alphas=alphas, cv=cv,\n        solver_params=dict(n_targets_batch=500, n_alphas_batch=5,\n                           n_targets_batch_refit=100)),\n)"
      ]
    },
    {
      "cell_type": "code",
      "execution_count": null,
      "metadata": {
        "collapsed": false
      },
      "outputs": [],
      "source": [
        "from sklearn import set_config\nset_config(display='diagram')  # requires scikit-learn 0.23\npipeline_motion_energy"
      ]
    },
    {
      "cell_type": "markdown",
      "metadata": {},
      "source": [
        "Fit the model\n-------------\n\nWe fit on the train set, and score on the test set.\n\n"
      ]
    },
    {
      "cell_type": "code",
      "execution_count": null,
      "metadata": {
        "collapsed": false
      },
      "outputs": [],
      "source": [
        "pipeline_motion_energy.fit(X_train, Y_train)\n\nscores_motion_energy = pipeline_motion_energy.score(X_test, Y_test)\nscores_motion_energy = backend.to_numpy(scores_motion_energy)\n\nprint(\"(n_voxels,) =\", scores_motion_energy.shape)"
      ]
    },
    {
      "cell_type": "markdown",
      "metadata": {},
      "source": [
        "Plot the model performances\n---------------------------\nThe performances are computed using the math:`R^2` scores.\n\n"
      ]
    },
    {
      "cell_type": "code",
      "execution_count": null,
      "metadata": {
        "collapsed": false
      },
      "outputs": [],
      "source": [
        "import matplotlib.pyplot as plt\nfrom voxelwise_tutorials.viz import plot_flatmap_from_mapper\n\nmapper_file = os.path.join(directory, \"mappers\", f\"{subject}_mappers.hdf\")\nax = plot_flatmap_from_mapper(scores_motion_energy, mapper_file, vmin=0,\n                              vmax=0.5)\nplt.show()"
      ]
    },
    {
      "cell_type": "markdown",
      "metadata": {},
      "source": [
        "The motion-energy features lead to large generalization scores in the\nearly visual cortex (V1, V2, V3, ...). For more discussions about these\nresults, we refer the reader to the original publication [1]_.\n\n"
      ]
    },
    {
      "cell_type": "markdown",
      "metadata": {},
      "source": [
        "Compare with the wordnet model\n------------------------------\n\nInterestingly, the motion-energy model performs well in different brain\nregions than the semantic \"wordnet\" model fitted in the previous example. To\ncompare the two models, we first need to fit again the wordnet model.\n\n"
      ]
    },
    {
      "cell_type": "code",
      "execution_count": null,
      "metadata": {
        "collapsed": false
      },
      "outputs": [],
      "source": [
        "feature_space = \"wordnet\"\nfile_name = os.path.join(directory, \"features\", f\"{feature_space}.hdf\")\nX_train = load_hdf5_array(file_name, key=\"X_train\")\nX_test = load_hdf5_array(file_name, key=\"X_test\")\n\nX_train = X_train.astype(\"float32\")\nX_test = X_test.astype(\"float32\")"
      ]
    },
    {
      "cell_type": "markdown",
      "metadata": {},
      "source": [
        "We can create an unfitted copy of the pipeline with the ``clone`` function.\n\n"
      ]
    },
    {
      "cell_type": "code",
      "execution_count": null,
      "metadata": {
        "collapsed": false
      },
      "outputs": [],
      "source": [
        "from sklearn.base import clone\npipeline_wordnet = clone(pipeline_motion_energy)\npipeline_wordnet"
      ]
    },
    {
      "cell_type": "code",
      "execution_count": null,
      "metadata": {
        "collapsed": false
      },
      "outputs": [],
      "source": [
        "pipeline_wordnet.fit(X_train, Y_train)\nscores_wordnet = pipeline_wordnet.score(X_test, Y_test)\nscores_wordnet = backend.to_numpy(scores_wordnet)\n\nax = plot_flatmap_from_mapper(scores_wordnet, mapper_file, vmin=0,\n                              vmax=0.5)\nplt.show()"
      ]
    },
    {
      "cell_type": "markdown",
      "metadata": {},
      "source": [
        "We can also plot the comparison of model performances with a 2D histogram.\nAll ~70k voxels are represented in this histogram, where the diagonal\ncorresponds to identical performance for both models. A distibution deviating\nfrom the diagonal means that one model has better predictive performances\nthan the other.\n\n"
      ]
    },
    {
      "cell_type": "code",
      "execution_count": null,
      "metadata": {
        "collapsed": false
      },
      "outputs": [],
      "source": [
        "from voxelwise_tutorials.viz import plot_hist2d\n\nax = plot_hist2d(scores_wordnet, scores_motion_energy)\nax.set(title='Generalization R2 scores', xlabel='semantic wordnet model',\n       ylabel='motion energy model')\nplt.show()"
      ]
    },
    {
      "cell_type": "markdown",
      "metadata": {},
      "source": [
        "Interestingly, the well predicted voxels are different in the two models.\nTo further describe these differences, we can plot both performances on the\nsame flatmap, using a 2D colormap.\n\n"
      ]
    },
    {
      "cell_type": "code",
      "execution_count": null,
      "metadata": {
        "collapsed": false
      },
      "outputs": [],
      "source": [
        "from voxelwise_tutorials.viz import plot_2d_flatmap_from_mapper\n\nmapper_file = os.path.join(directory, \"mappers\", f\"{subject}_mappers.hdf\")\nax = plot_2d_flatmap_from_mapper(scores_wordnet, scores_motion_energy,\n                                 mapper_file, vmin=0, vmax=0.25, vmin2=0,\n                                 vmax2=0.5, label_1=\"wordnet\",\n                                 label_2=\"motion energy\")\nplt.show()"
      ]
    },
    {
      "cell_type": "markdown",
      "metadata": {},
      "source": [
        "The blue regions are well predicted by the motion-energy features, the orange\nregions are well predicted by the wordnet features, and the white regions are\nwell predicted by both feature spaces.\n\nInterestingly, a large part of the visual semantic areas are not only well\npredicted by the wordnet features, but also by the motion-energy features, as\nindicated by the white color. Since these two features spaces encode quite\ndifferent information, two interpretations are possible. In the first\ninterpretation, the two feature spaces encode complementary information, and\ncould be used jointly to further increase the generalization performances. In\nthe second interpretation, both feature spaces encode the same information,\nbecause of spurious correlation in the stimulus. For example, all faces in\nthe stimulus might be located in the same part of the visual field, thus a\nmotion-energy feature at this location might contain all the necessary\ninformation to predict the presence of a face, without specifically encoding\nfor the semantic of faces.\n\nTo better disentangle the two feature spaces, we developed a joint model\ncalled `banded ridge regression` [2]_, which fits multiple feature spaces\nsimultaneously with optimal regularization for each feature space. This model\nis described in the next example.\n\n"
      ]
    },
    {
      "cell_type": "markdown",
      "metadata": {},
      "source": [
        "References\n----------\n\n.. [1] Nishimoto, S., Vu, A. T., Naselaris, T., Benjamini, Y., Yu,\n    B., & Gallant, J. L. (2011). Reconstructing visual experiences from brain\n    activity evoked by natural movies. Current Biology, 21(19), 1641-1646.\n\n.. [2] Nunez-Elizalde, A. O., Huth, A. G., & Gallant, J. L. (2019).\n    Voxelwise encoding models with non-spherical multivariate normal priors.\n    Neuroimage, 197, 482-492.\n\n"
      ]
    }
  ],
  "metadata": {
    "kernelspec": {
      "display_name": "Python 3",
      "language": "python",
      "name": "python3"
    },
    "language_info": {
      "codemirror_mode": {
        "name": "ipython",
        "version": 3
      },
      "file_extension": ".py",
      "mimetype": "text/x-python",
      "name": "python",
      "nbconvert_exporter": "python",
      "pygments_lexer": "ipython3",
      "version": "3.7.3"
    }
  },
  "nbformat": 4,
  "nbformat_minor": 0
}