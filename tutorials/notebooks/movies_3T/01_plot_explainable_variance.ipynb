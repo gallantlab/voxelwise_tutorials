{
  "cells": [
    {
      "cell_type": "code",
      "execution_count": null,
      "metadata": {
        "collapsed": false
      },
      "outputs": [],
      "source": [
        "%matplotlib inline"
      ]
    },
    {
      "cell_type": "markdown",
      "metadata": {},
      "source": [
        "\n# Compute the explainable variance\n\n\nBefore fitting voxelwise models to the fMRI responses, we can compute the\nexplainable variance on the test set repeats.\n\nThe explainable variance is the part of the fMRI responses that can be\nexplained by voxelwise modeling. It is thus the upper bound of voxelwise\nmodeling performances.\n\nIndeed, we can decompose the signal into a sum of two components, one\ncomponent that is repeated if we repeat the same experiment, and one component\nthat changes for each repeat. Because voxelwise modeling would use the same\nfeatures for each repeat, it can only model the component that is common to\nall repeats. This shared component can be estimated by taking the mean over\nrepeats of the same experiment.\n"
      ]
    },
    {
      "cell_type": "code",
      "execution_count": null,
      "metadata": {
        "collapsed": false
      },
      "outputs": [],
      "source": [
        ""
      ]
    },
    {
      "cell_type": "code",
      "execution_count": null,
      "metadata": {
        "collapsed": false
      },
      "outputs": [],
      "source": [
        "# path of the data directory\nimport os\nfrom voxelwise_tutorials.io import get_data_home\ndirectory = os.path.join(get_data_home(), \"vim-4\")\nprint(directory)\n\n# modify to use another subject\nsubject = \"S01\""
      ]
    },
    {
      "cell_type": "markdown",
      "metadata": {},
      "source": [
        "Compute the explainable variance\n--------------------------------\n\n"
      ]
    },
    {
      "cell_type": "code",
      "execution_count": null,
      "metadata": {
        "collapsed": false
      },
      "outputs": [],
      "source": [
        "import numpy as np\n\nfrom voxelwise_tutorials.io import load_hdf5_array"
      ]
    },
    {
      "cell_type": "markdown",
      "metadata": {},
      "source": [
        "First, we load the fMRI responses on the test set, which contains 10 repeats.\n\n"
      ]
    },
    {
      "cell_type": "code",
      "execution_count": null,
      "metadata": {
        "collapsed": false
      },
      "outputs": [],
      "source": [
        "file_name = os.path.join(directory, 'responses', f'{subject}_responses.hdf')\nY_test = load_hdf5_array(file_name, key=\"Y_test\")"
      ]
    },
    {
      "cell_type": "markdown",
      "metadata": {},
      "source": [
        "Then, we compute the explainable variance per voxel.\nThe variance of the signal is estimated by taking the average variance over\nrepeats. The variance of the component shared across repeats is estimated by\ntaking the variance of the average response. Then, we compute the\nexplainable variance by dividing these two quantities.\nFinally, a correction can be applied to account for small numbers of repeat\n(parameter ``bias_correction``).\n\n"
      ]
    },
    {
      "cell_type": "code",
      "execution_count": null,
      "metadata": {
        "collapsed": false
      },
      "outputs": [],
      "source": [
        "from voxelwise_tutorials.utils import explainable_variance\nev = explainable_variance(Y_test, bias_correction=False)"
      ]
    },
    {
      "cell_type": "markdown",
      "metadata": {},
      "source": [
        "We can plot the distribution of explainable variance over voxels.\n\n"
      ]
    },
    {
      "cell_type": "code",
      "execution_count": null,
      "metadata": {
        "collapsed": false
      },
      "outputs": [],
      "source": [
        "import matplotlib.pyplot as plt\n\nplt.hist(ev, bins=np.linspace(0, 1, 100), log=True, histtype='step')\nplt.xlabel(\"Explainable variance\")\nplt.ylabel(\"Number of voxels\")\nplt.title('Histogram of explainable variance')\nplt.grid('on')\nplt.show()"
      ]
    },
    {
      "cell_type": "markdown",
      "metadata": {},
      "source": [
        "We see that most voxels have a rather low explainable variance, around 0.1\n(when not using the bias correction). This is expected, since most voxels are\nnot directly driven by a visual stimulus.\nWe also see that some voxels reach an explainable variance of 0.7, which is\nquite high. It means that these voxels consistently record the same activity\nacross a repeated stimulus, and thus are good targets for encoding models.\n\n"
      ]
    },
    {
      "cell_type": "markdown",
      "metadata": {},
      "source": [
        "Map to subject flatmap\n----------------------\n\nTo better understand the distribution of explainable variance, we map the\nvalues to the subject brain. This can be done with\n`pycortex <https://gallantlab.github.io/pycortex/>`_, which can create\ninteractive 3D viewers displayed in any modern browser.\n``Pycortex`` can also display flatten maps of the cortical surface, to\nvisualize the entire cortical surface at once.\n\nHere, we do not share the anatomical information of the subjects for privacy\nconcerns. Instead, we provide two mappers, (i) to map the voxels to a\nsubject-specific flatmap, or (ii) to map the voxels to the Freesurfer average\ncortical surface (\"fsaverage\").\n\nThe first mapper is a sparse CSR matrix that map each voxel to a set of pixel\nin a flatmap. To ease its use, we provide here an example function\n``plot_flatmap_from_mapper``.\n\n"
      ]
    },
    {
      "cell_type": "code",
      "execution_count": null,
      "metadata": {
        "collapsed": false
      },
      "outputs": [],
      "source": [
        "from voxelwise_tutorials.viz import plot_flatmap_from_mapper\n\nmapper_file = os.path.join(directory, 'mappers', f'{subject}_mappers.hdf')\nplot_flatmap_from_mapper(ev, mapper_file, vmin=0, vmax=0.7)\nplt.show()"
      ]
    },
    {
      "cell_type": "markdown",
      "metadata": {},
      "source": [
        "We can see that the explainable variance is mainly located in the visual\ncortex, in early regions like V1, V2, V3, or in higher-level regions like\nEBA, FFA or IPS. This was expected since this is a purely visual experiment.\n\n"
      ]
    },
    {
      "cell_type": "markdown",
      "metadata": {},
      "source": [
        "Map to fsaverage\n----------------\n\nThe second mapper we provide maps the voxel data to a Freesurfer\naverage surface (\"fsaverage\"), that can be used in ``pycortex``.\nFirst, let's download the fsaverage surface if it does not exist\n\n"
      ]
    },
    {
      "cell_type": "code",
      "execution_count": null,
      "metadata": {
        "collapsed": false
      },
      "outputs": [],
      "source": [
        "import cortex\n\nsurface = \"fsaverage_pycortex\"  # (\"fsaverage\" outside the Gallant lab)\n\nif not hasattr(cortex.db, surface):\n    cortex.utils.download_subject(subject_id=surface)"
      ]
    },
    {
      "cell_type": "markdown",
      "metadata": {},
      "source": [
        "Then, we load the fsaverage mapper. The mapper is a sparse CSR matrix, which\nmap each voxel to some vertices in the fsaverage surface.\nThe mapper is applied with a dot product ``@``.\n\n"
      ]
    },
    {
      "cell_type": "code",
      "execution_count": null,
      "metadata": {
        "collapsed": false
      },
      "outputs": [],
      "source": [
        "from voxelwise_tutorials.io import load_hdf5_sparse_array\nvoxel_to_fsaverage = load_hdf5_sparse_array(mapper_file,\n                                            key='voxel_to_fsaverage')\nev_projected = voxel_to_fsaverage @ ev"
      ]
    },
    {
      "cell_type": "markdown",
      "metadata": {},
      "source": [
        "We can then create a ``Vertex`` object with the projected data.\nThis object can be used either in a ``pycortex`` interactive 3D viewer, or\nin a ``matplotlib`` figure showing directly the flatmap.\n\n"
      ]
    },
    {
      "cell_type": "code",
      "execution_count": null,
      "metadata": {
        "collapsed": false
      },
      "outputs": [],
      "source": [
        "vertex = cortex.Vertex(ev_projected, surface, vmin=0, vmax=0.7, cmap='inferno')"
      ]
    },
    {
      "cell_type": "markdown",
      "metadata": {},
      "source": [
        "To start an interactive 3D viewer in the browser, use the following function:\n\n"
      ]
    },
    {
      "cell_type": "code",
      "execution_count": null,
      "metadata": {
        "collapsed": false
      },
      "outputs": [],
      "source": [
        "if False:\n    cortex.webshow(vertex, open_browser=True)"
      ]
    },
    {
      "cell_type": "markdown",
      "metadata": {},
      "source": [
        "Alternatively, to plot a flatmap in a ``matplotlib`` figure, use the\nfollowing function:\n\n"
      ]
    },
    {
      "cell_type": "code",
      "execution_count": null,
      "metadata": {
        "collapsed": false
      },
      "outputs": [],
      "source": [
        "fig = cortex.quickshow(vertex, colorbar_location='right')\nplt.show()"
      ]
    }
  ],
  "metadata": {
    "kernelspec": {
      "display_name": "Python 3",
      "language": "python",
      "name": "python3"
    },
    "language_info": {
      "codemirror_mode": {
        "name": "ipython",
        "version": 3
      },
      "file_extension": ".py",
      "mimetype": "text/x-python",
      "name": "python",
      "nbconvert_exporter": "python",
      "pygments_lexer": "ipython3",
      "version": "3.7.3"
    }
  },
  "nbformat": 4,
  "nbformat_minor": 0
}