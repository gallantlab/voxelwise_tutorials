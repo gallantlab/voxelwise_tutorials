{
  "cells": [
    {
      "cell_type": "code",
      "execution_count": null,
      "metadata": {
        "collapsed": false
      },
      "outputs": [],
      "source": [
        "%matplotlib inline"
      ]
    },
    {
      "cell_type": "markdown",
      "metadata": {},
      "source": [
        "\n# Setup Google Colab\n\n\nIn this script, we setup a Google Colab environment. This script will only work\nwhen run from `Google Colab <https://colab.research.google.com/>`_). You can\nskip it if you run the tutorials on your machine.\n"
      ]
    },
    {
      "cell_type": "code",
      "execution_count": null,
      "metadata": {
        "collapsed": false
      },
      "outputs": [],
      "source": [
        ""
      ]
    },
    {
      "cell_type": "markdown",
      "metadata": {},
      "source": [
        "Change runtime to use a GPU\n---------------------------\n\nThis tutorial is much faster when a GPU is available to run the computations:\n\n(Menu) \"Runtime\" -> \"Change runtime type\" -> \"Hardware accelerator\" -> \"GPU\".\n\n"
      ]
    },
    {
      "cell_type": "markdown",
      "metadata": {},
      "source": [
        "Mount data with Google Drive\n----------------------------\n\nFirst, open the following Google Drive link:\nhttps://drive.google.com/drive/folders/1NuxO5_GHgDvjrL2FX5ohzAsvWpZuepIA\n\nThen, clic on the directory name (\"vim-5\"), and add a shortcut to your Drive\n(\"Add shortcut to Drive\").\n\nThen, mount Google Drive in Google Colab. To do so, run the following cell,\nand follow the instructions from Google to copy/paste the authorization code.\n\n"
      ]
    },
    {
      "cell_type": "code",
      "execution_count": null,
      "metadata": {
        "collapsed": false
      },
      "outputs": [],
      "source": [
        "from google.colab import drive\ndrive.mount(\"/content/drive\")"
      ]
    },
    {
      "cell_type": "markdown",
      "metadata": {},
      "source": [
        "Uncomment and run the following command to check that Google Drive was\ncorrectly mounted.\n\n"
      ]
    },
    {
      "cell_type": "code",
      "execution_count": null,
      "metadata": {
        "collapsed": false
      },
      "outputs": [],
      "source": [
        "# !ls 'drive' && echo SUCCESS || echo FAILURE"
      ]
    },
    {
      "cell_type": "markdown",
      "metadata": {},
      "source": [
        "Then, tell the voxelwise_tutorials package where the data is.\n\n"
      ]
    },
    {
      "cell_type": "code",
      "execution_count": null,
      "metadata": {
        "collapsed": false
      },
      "outputs": [],
      "source": [
        "import os\nos.environ['VOXELWISE_TUTORIALS_DATA'] = \"drive/MyDrive/\""
      ]
    },
    {
      "cell_type": "markdown",
      "metadata": {},
      "source": [
        "Install package helper\n----------------------\n\nFinally, install the tutorial helper package, by uncommenting and running\nthe install command.\n\n"
      ]
    },
    {
      "cell_type": "code",
      "execution_count": null,
      "metadata": {
        "collapsed": false
      },
      "outputs": [],
      "source": [
        "# !pip install voxelwise_tutorials"
      ]
    },
    {
      "cell_type": "markdown",
      "metadata": {},
      "source": [
        "When using Colab, the install of pycortex might fail to locate the default\npycortex filestore. You can fix it by uncommenting and running the following:\n\n"
      ]
    },
    {
      "cell_type": "code",
      "execution_count": null,
      "metadata": {
        "collapsed": false
      },
      "outputs": [],
      "source": [
        "# !git clone https://github.com/gallantlab/pycortex"
      ]
    },
    {
      "cell_type": "markdown",
      "metadata": {},
      "source": [
        "and changing the filestore path.\n\n"
      ]
    },
    {
      "cell_type": "code",
      "execution_count": null,
      "metadata": {
        "collapsed": false
      },
      "outputs": [],
      "source": [
        "import cortex\nfilestore = \"/content/pycortex/filestore/\"\ncortex.options.config['basic']['filestore'] = filestore\ncortex.options.config['webgl']['colormaps'] = \"/content/pycortex/filestore/colormaps\"\ncortex.database.db = cortex.database.Database(filestore)\ncortex.db = cortex.database.db\ncortex.utils.db = cortex.database.db\ncortex.dataset.braindata.db = cortex.database.db"
      ]
    }
  ],
  "metadata": {
    "kernelspec": {
      "display_name": "Python 3",
      "language": "python",
      "name": "python3"
    },
    "language_info": {
      "codemirror_mode": {
        "name": "ipython",
        "version": 3
      },
      "file_extension": ".py",
      "mimetype": "text/x-python",
      "name": "python",
      "nbconvert_exporter": "python",
      "pygments_lexer": "ipython3",
      "version": "3.7.3"
    }
  },
  "nbformat": 4,
  "nbformat_minor": 0
}