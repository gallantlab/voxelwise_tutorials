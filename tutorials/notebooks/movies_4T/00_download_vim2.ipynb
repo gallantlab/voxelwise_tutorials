{
  "cells": [
    {
      "cell_type": "code",
      "execution_count": null,
      "metadata": {
        "collapsed": false
      },
      "outputs": [],
      "source": [
        "%matplotlib inline"
      ]
    },
    {
      "cell_type": "markdown",
      "metadata": {},
      "source": [
        "\n# Download the data set from CRCNS\n\n\nIn this script, we download the data set from CRCNS.\nA (free) account is required.\n\nCite this data set\n------------------\n\nThis tutorial is based on publicly available data\n`published on CRCNS <https://crcns.org/data-sets/vc/vim-2/about-vim-2>`_.\nIf you publish any work using this data set, please cite the original\npublication [1]_, and the data set [2]_.\n"
      ]
    },
    {
      "cell_type": "code",
      "execution_count": null,
      "metadata": {
        "collapsed": false
      },
      "outputs": [],
      "source": [
        ""
      ]
    },
    {
      "cell_type": "markdown",
      "metadata": {},
      "source": [
        "Download\n--------\n\n"
      ]
    },
    {
      "cell_type": "code",
      "execution_count": null,
      "metadata": {
        "collapsed": false
      },
      "outputs": [],
      "source": [
        "# path of the data directory\nimport os\nfrom voxelwise_tutorials.io import get_data_home\ndirectory = os.path.join(get_data_home(), \"vim-2\")\nprint(directory)"
      ]
    },
    {
      "cell_type": "markdown",
      "metadata": {},
      "source": [
        "We will only use the first subject in this tutorial, but you can run the same\nanalysis on the two other subjects. Uncomment the lines in ``DATAFILES`` to\ndownload more subjects, or to download the anatomy files.\n\n"
      ]
    },
    {
      "cell_type": "code",
      "execution_count": null,
      "metadata": {
        "collapsed": false
      },
      "outputs": [],
      "source": [
        "import getpass\n\nfrom voxelwise_tutorials.io import download_crcns\n\nDATAFILES = [\n    'vim-2/Stimuli.tar.gz',\n    'vim-2/VoxelResponses_subject1.tar.gz',\n    # 'vim-2/VoxelResponses_subject2.tar.gz',\n    # 'vim-2/VoxelResponses_subject3.tar.gz',\n    # 'vim-2/anatomy.zip',\n    # 'vim-2/checksums.md5',\n    # 'vim-2/filelist.txt',\n    # 'vim-2/docs/crcns-vim-2-data-description.pdf',\n]"
      ]
    },
    {
      "cell_type": "code",
      "execution_count": null,
      "metadata": {
        "collapsed": false
      },
      "outputs": [],
      "source": [
        "username = input(\"CRCNS username: \")\npassword = getpass.getpass(\"CRCNS password: \")\n\nfor datafile in DATAFILES:\n    local_filename = download_crcns(datafile, username, password,\n                                    destination=directory, unpack=True)"
      ]
    },
    {
      "cell_type": "markdown",
      "metadata": {},
      "source": [
        "References\n----------\n\n.. [1] Nishimoto, S., Vu, A. T., Naselaris, T., Benjamini, Y., Yu, B., &\n    Gallant, J. L. (2011). Reconstructing visual experiences from brain\n    activity evoked by natural movies. Current Biology, 21(19), 1641-1646.\n\n.. [2] Nishimoto, S., Vu, A. T., Naselaris, T., Benjamini, Y., Yu, B., &\n    Gallant, J. L. (2014): Gallant Lab Natural Movie 4T fMRI Data. CRCNS.org.\n    http://dx.doi.org/10.6080/K00Z715X\n\n"
      ]
    }
  ],
  "metadata": {
    "kernelspec": {
      "display_name": "Python 3",
      "language": "python",
      "name": "python3"
    },
    "language_info": {
      "codemirror_mode": {
        "name": "ipython",
        "version": 3
      },
      "file_extension": ".py",
      "mimetype": "text/x-python",
      "name": "python",
      "nbconvert_exporter": "python",
      "pygments_lexer": "ipython3",
      "version": "3.7.3"
    }
  },
  "nbformat": 4,
  "nbformat_minor": 0
}